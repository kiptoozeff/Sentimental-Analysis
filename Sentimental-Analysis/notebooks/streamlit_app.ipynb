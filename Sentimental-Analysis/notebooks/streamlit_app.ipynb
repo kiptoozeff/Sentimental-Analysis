{
 "cells": [
  {
   "cell_type": "code",
   "execution_count": 1,
   "metadata": {},
   "outputs": [
    {
     "name": "stderr",
     "output_type": "stream",
     "text": [
      "2023-07-23 23:28:06.262 INFO    numexpr.utils: NumExpr defaulting to 4 threads.\n"
     ]
    },
    {
     "name": "stdout",
     "output_type": "stream",
     "text": [
      "[2023-07-23 23:28:26,519] [INFO] [real_accelerator.py:110:get_accelerator] Setting ds_accelerator to cuda (auto detect)\n"
     ]
    }
   ],
   "source": [
    "import streamlit as st\n",
    "import streamlit.components.v1 as com\n",
    "#import libraries\n",
    "from transformers import AutoModelForSequenceClassification, AutoTokenizer, AutoConfig\n",
    "import numpy as np\n",
    "#convert logits to probabilities\n",
    "from scipy.special import softmax\n",
    "from transformers import pipeline"
   ]
  },
  {
   "cell_type": "code",
   "execution_count": null,
   "metadata": {},
   "outputs": [],
   "source": [
    "#Set the page configs\n",
    "st.set_page_config(page_title='Sentiments Analysis',page_icon='😎',layout='wide')\n",
    "\n",
    "#welcome Animation\n",
    "com.iframe(\"https://embed.lottiefiles.com/animation/149093\")\n",
    "st.markdown(\"<h1 style='text-align: center'> Covid Vaccine Tweet Sentiments </h1>\",unsafe_allow_html=True)\n",
    "st.write(\"<h2 style='font-size: 24px;'> These models were trained to detect how a user feels about the covid vaccines based on their tweets(text) </h2>\",unsafe_allow_html=True)\n",
    "\n",
    "#Create a form to take user inputs\n",
    "with st.form(key='tweet',clear_on_submit=True):\n",
    "    #input text\n",
    "    text=st.text_area('Copy and paste a tweet or type one',placeholder='I find it quite amusing how people ignore the effects of not taking the vaccine')\n",
    "    #Set examples\n",
    "    alt_text=st.selectbox(\"Can't Type?  Select an Example below\",('I hate the vaccines','Vaccines made from dead human tissues','Take the vaccines or regret the consequences','Covid is a Hoax','Making the vaccines is a huge step forward for humanity. Just take them'))\n",
    "    #Select a model\n",
    "    models={'Bert':'penscola/tweet_sentiments_analysis_bert',\n",
    "            'Distilbert':'penscola/tweet_sentiments_analysis_distilbert',\n",
    "            'Roberta':'penscola/tweet_sentiments_analysis_roberta'}\n",
    "    model=st.selectbox('Which model would you want to Use?',('Bert','Distilbert','Roberta'))\n",
    "     #Submit\n",
    "    submit=st.form_submit_button('Predict','Continue processing input')\n",
    "    \n",
    "selected_model=models[model]\n",
    "\n",
    "\n",
    "#create columns to show outputs\n",
    "col1,col2,col3=st.columns(3)\n",
    "col1.write('<h2 style=\"font-size: 24px;\"> Sentiment Emoji </h2>',unsafe_allow_html=True)\n",
    "col2.write('<h2 style=\"font-size: 24px;\"> How this user feels about the vaccine </h2>',unsafe_allow_html=True)\n",
    "col3.write('<h2 style=\"font-size: 24px;\"> Confidence of this prediction </h2>',unsafe_allow_html=True)\n",
    "\n",
    "if submit:\n",
    "    #Check text\n",
    "    if text==\"\":\n",
    "        text=alt_text\n",
    "        st.success(f\"input text is set to '{text}'\")    \n",
    "    else:\n",
    "        st.success('Text received',icon='✅')\n",
    "        \n",
    "    #import the model\n",
    "    pipe=pipeline(model=selected_model)\n",
    "\n",
    "#pass text to model\n",
    "    output=pipe(text)\n",
    "    output_dict=output[0]\n",
    "    lable=output_dict['label']\n",
    "    score=output_dict['score']\n",
    "    \n",
    "        #output\n",
    "    if lable=='NEGATIVE' or lable=='LABEL_0':\n",
    "        with col1:\n",
    "            com.iframe(\"https://embed.lottiefiles.com/animation/125694\")\n",
    "        col2.write('NEGATIVE')\n",
    "        col3.write(f'{score:.2%}')\n",
    "    elif lable=='POSITIVE'or lable=='LABEL_2':\n",
    "        with col1:\n",
    "            com.iframe(\"https://embed.lottiefiles.com/animation/148485\")\n",
    "        col2.write('POSITIVE')\n",
    "        col3.write(f'{score:.2%}')\n",
    "    else:\n",
    "        with col1:\n",
    "            com.iframe(\"https://embed.lottiefiles.com/animation/136052\")\n",
    "        col2.write('NEUTRAL')\n",
    "        col3.write(f'{score:.2%}')"
   ]
  }
 ],
 "metadata": {
  "kernelspec": {
   "display_name": "base",
   "language": "python",
   "name": "python3"
  },
  "language_info": {
   "codemirror_mode": {
    "name": "ipython",
    "version": 3
   },
   "file_extension": ".py",
   "mimetype": "text/x-python",
   "name": "python",
   "nbconvert_exporter": "python",
   "pygments_lexer": "ipython3",
   "version": "3.10.9"
  },
  "orig_nbformat": 4
 },
 "nbformat": 4,
 "nbformat_minor": 2
}
