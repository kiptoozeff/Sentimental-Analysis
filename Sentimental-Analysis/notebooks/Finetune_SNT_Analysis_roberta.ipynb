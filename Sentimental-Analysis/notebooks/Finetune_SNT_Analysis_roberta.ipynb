{
  "cells": [
    {
      "cell_type": "markdown",
      "metadata": {
        "id": "1_mhHcwSzY2J"
      },
      "source": [
        "Finetune a Pretrained Hugginface model"
      ]
    },
    {
      "cell_type": "code",
      "execution_count": 1,
      "metadata": {
        "colab": {
          "base_uri": "https://localhost:8080/"
        },
        "id": "E4omMjpEzY2M",
        "outputId": "84628500-3339-4c96-9fd7-106421bd2f9d"
      },
      "outputs": [
        {
          "output_type": "stream",
          "name": "stdout",
          "text": [
            "Collecting transformers\n",
            "  Downloading transformers-4.31.0-py3-none-any.whl (7.4 MB)\n",
            "\u001b[2K     \u001b[90m━━━━━━━━━━━━━━━━━━━━━━━━━━━━━━━━━━━━━━━━\u001b[0m \u001b[32m7.4/7.4 MB\u001b[0m \u001b[31m23.4 MB/s\u001b[0m eta \u001b[36m0:00:00\u001b[0m\n",
            "\u001b[?25hRequirement already satisfied: filelock in /usr/local/lib/python3.10/dist-packages (from transformers) (3.12.2)\n",
            "Collecting huggingface-hub<1.0,>=0.14.1 (from transformers)\n",
            "  Downloading huggingface_hub-0.16.4-py3-none-any.whl (268 kB)\n",
            "\u001b[2K     \u001b[90m━━━━━━━━━━━━━━━━━━━━━━━━━━━━━━━━━━━━━━\u001b[0m \u001b[32m268.8/268.8 kB\u001b[0m \u001b[31m30.8 MB/s\u001b[0m eta \u001b[36m0:00:00\u001b[0m\n",
            "\u001b[?25hRequirement already satisfied: numpy>=1.17 in /usr/local/lib/python3.10/dist-packages (from transformers) (1.22.4)\n",
            "Requirement already satisfied: packaging>=20.0 in /usr/local/lib/python3.10/dist-packages (from transformers) (23.1)\n",
            "Requirement already satisfied: pyyaml>=5.1 in /usr/local/lib/python3.10/dist-packages (from transformers) (6.0.1)\n",
            "Requirement already satisfied: regex!=2019.12.17 in /usr/local/lib/python3.10/dist-packages (from transformers) (2022.10.31)\n",
            "Requirement already satisfied: requests in /usr/local/lib/python3.10/dist-packages (from transformers) (2.27.1)\n",
            "Collecting tokenizers!=0.11.3,<0.14,>=0.11.1 (from transformers)\n",
            "  Downloading tokenizers-0.13.3-cp310-cp310-manylinux_2_17_x86_64.manylinux2014_x86_64.whl (7.8 MB)\n",
            "\u001b[2K     \u001b[90m━━━━━━━━━━━━━━━━━━━━━━━━━━━━━━━━━━━━━━━━\u001b[0m \u001b[32m7.8/7.8 MB\u001b[0m \u001b[31m76.8 MB/s\u001b[0m eta \u001b[36m0:00:00\u001b[0m\n",
            "\u001b[?25hCollecting safetensors>=0.3.1 (from transformers)\n",
            "  Downloading safetensors-0.3.1-cp310-cp310-manylinux_2_17_x86_64.manylinux2014_x86_64.whl (1.3 MB)\n",
            "\u001b[2K     \u001b[90m━━━━━━━━━━━━━━━━━━━━━━━━━━━━━━━━━━━━━━━━\u001b[0m \u001b[32m1.3/1.3 MB\u001b[0m \u001b[31m61.4 MB/s\u001b[0m eta \u001b[36m0:00:00\u001b[0m\n",
            "\u001b[?25hRequirement already satisfied: tqdm>=4.27 in /usr/local/lib/python3.10/dist-packages (from transformers) (4.65.0)\n",
            "Requirement already satisfied: fsspec in /usr/local/lib/python3.10/dist-packages (from huggingface-hub<1.0,>=0.14.1->transformers) (2023.6.0)\n",
            "Requirement already satisfied: typing-extensions>=3.7.4.3 in /usr/local/lib/python3.10/dist-packages (from huggingface-hub<1.0,>=0.14.1->transformers) (4.7.1)\n",
            "Requirement already satisfied: urllib3<1.27,>=1.21.1 in /usr/local/lib/python3.10/dist-packages (from requests->transformers) (1.26.16)\n",
            "Requirement already satisfied: certifi>=2017.4.17 in /usr/local/lib/python3.10/dist-packages (from requests->transformers) (2023.5.7)\n",
            "Requirement already satisfied: charset-normalizer~=2.0.0 in /usr/local/lib/python3.10/dist-packages (from requests->transformers) (2.0.12)\n",
            "Requirement already satisfied: idna<4,>=2.5 in /usr/local/lib/python3.10/dist-packages (from requests->transformers) (3.4)\n",
            "Installing collected packages: tokenizers, safetensors, huggingface-hub, transformers\n",
            "Successfully installed huggingface-hub-0.16.4 safetensors-0.3.1 tokenizers-0.13.3 transformers-4.31.0\n",
            "Requirement already satisfied: transformers[torch] in /usr/local/lib/python3.10/dist-packages (4.31.0)\n",
            "Requirement already satisfied: filelock in /usr/local/lib/python3.10/dist-packages (from transformers[torch]) (3.12.2)\n",
            "Requirement already satisfied: huggingface-hub<1.0,>=0.14.1 in /usr/local/lib/python3.10/dist-packages (from transformers[torch]) (0.16.4)\n",
            "Requirement already satisfied: numpy>=1.17 in /usr/local/lib/python3.10/dist-packages (from transformers[torch]) (1.22.4)\n",
            "Requirement already satisfied: packaging>=20.0 in /usr/local/lib/python3.10/dist-packages (from transformers[torch]) (23.1)\n",
            "Requirement already satisfied: pyyaml>=5.1 in /usr/local/lib/python3.10/dist-packages (from transformers[torch]) (6.0.1)\n",
            "Requirement already satisfied: regex!=2019.12.17 in /usr/local/lib/python3.10/dist-packages (from transformers[torch]) (2022.10.31)\n",
            "Requirement already satisfied: requests in /usr/local/lib/python3.10/dist-packages (from transformers[torch]) (2.27.1)\n",
            "Requirement already satisfied: tokenizers!=0.11.3,<0.14,>=0.11.1 in /usr/local/lib/python3.10/dist-packages (from transformers[torch]) (0.13.3)\n",
            "Requirement already satisfied: safetensors>=0.3.1 in /usr/local/lib/python3.10/dist-packages (from transformers[torch]) (0.3.1)\n",
            "Requirement already satisfied: tqdm>=4.27 in /usr/local/lib/python3.10/dist-packages (from transformers[torch]) (4.65.0)\n",
            "Requirement already satisfied: torch!=1.12.0,>=1.9 in /usr/local/lib/python3.10/dist-packages (from transformers[torch]) (2.0.1+cu118)\n",
            "Collecting accelerate>=0.20.3 (from transformers[torch])\n",
            "  Downloading accelerate-0.21.0-py3-none-any.whl (244 kB)\n",
            "\u001b[2K     \u001b[90m━━━━━━━━━━━━━━━━━━━━━━━━━━━━━━━━━━━━━━━\u001b[0m \u001b[32m244.2/244.2 kB\u001b[0m \u001b[31m2.6 MB/s\u001b[0m eta \u001b[36m0:00:00\u001b[0m\n",
            "\u001b[?25hRequirement already satisfied: psutil in /usr/local/lib/python3.10/dist-packages (from accelerate>=0.20.3->transformers[torch]) (5.9.5)\n",
            "Requirement already satisfied: fsspec in /usr/local/lib/python3.10/dist-packages (from huggingface-hub<1.0,>=0.14.1->transformers[torch]) (2023.6.0)\n",
            "Requirement already satisfied: typing-extensions>=3.7.4.3 in /usr/local/lib/python3.10/dist-packages (from huggingface-hub<1.0,>=0.14.1->transformers[torch]) (4.7.1)\n",
            "Requirement already satisfied: sympy in /usr/local/lib/python3.10/dist-packages (from torch!=1.12.0,>=1.9->transformers[torch]) (1.11.1)\n",
            "Requirement already satisfied: networkx in /usr/local/lib/python3.10/dist-packages (from torch!=1.12.0,>=1.9->transformers[torch]) (3.1)\n",
            "Requirement already satisfied: jinja2 in /usr/local/lib/python3.10/dist-packages (from torch!=1.12.0,>=1.9->transformers[torch]) (3.1.2)\n",
            "Requirement already satisfied: triton==2.0.0 in /usr/local/lib/python3.10/dist-packages (from torch!=1.12.0,>=1.9->transformers[torch]) (2.0.0)\n",
            "Requirement already satisfied: cmake in /usr/local/lib/python3.10/dist-packages (from triton==2.0.0->torch!=1.12.0,>=1.9->transformers[torch]) (3.25.2)\n",
            "Requirement already satisfied: lit in /usr/local/lib/python3.10/dist-packages (from triton==2.0.0->torch!=1.12.0,>=1.9->transformers[torch]) (16.0.6)\n",
            "Requirement already satisfied: urllib3<1.27,>=1.21.1 in /usr/local/lib/python3.10/dist-packages (from requests->transformers[torch]) (1.26.16)\n",
            "Requirement already satisfied: certifi>=2017.4.17 in /usr/local/lib/python3.10/dist-packages (from requests->transformers[torch]) (2023.5.7)\n",
            "Requirement already satisfied: charset-normalizer~=2.0.0 in /usr/local/lib/python3.10/dist-packages (from requests->transformers[torch]) (2.0.12)\n",
            "Requirement already satisfied: idna<4,>=2.5 in /usr/local/lib/python3.10/dist-packages (from requests->transformers[torch]) (3.4)\n",
            "Requirement already satisfied: MarkupSafe>=2.0 in /usr/local/lib/python3.10/dist-packages (from jinja2->torch!=1.12.0,>=1.9->transformers[torch]) (2.1.3)\n",
            "Requirement already satisfied: mpmath>=0.19 in /usr/local/lib/python3.10/dist-packages (from sympy->torch!=1.12.0,>=1.9->transformers[torch]) (1.3.0)\n",
            "Installing collected packages: accelerate\n",
            "Successfully installed accelerate-0.21.0\n"
          ]
        }
      ],
      "source": [
        "!pip install transformers\n",
        "!pip install transformers[torch]"
      ]
    },
    {
      "cell_type": "code",
      "execution_count": 2,
      "metadata": {
        "colab": {
          "base_uri": "https://localhost:8080/"
        },
        "id": "klUdG-ut9sTa",
        "outputId": "60dd5fd4-3128-420e-cc21-285abdb679e9"
      },
      "outputs": [
        {
          "output_type": "stream",
          "name": "stdout",
          "text": [
            "Collecting datasets\n",
            "  Downloading datasets-2.13.1-py3-none-any.whl (486 kB)\n",
            "\u001b[2K     \u001b[90m━━━━━━━━━━━━━━━━━━━━━━━━━━━━━━━━━━━━━━━\u001b[0m \u001b[32m486.2/486.2 kB\u001b[0m \u001b[31m5.7 MB/s\u001b[0m eta \u001b[36m0:00:00\u001b[0m\n",
            "\u001b[?25hRequirement already satisfied: numpy>=1.17 in /usr/local/lib/python3.10/dist-packages (from datasets) (1.22.4)\n",
            "Requirement already satisfied: pyarrow>=8.0.0 in /usr/local/lib/python3.10/dist-packages (from datasets) (9.0.0)\n",
            "Collecting dill<0.3.7,>=0.3.0 (from datasets)\n",
            "  Downloading dill-0.3.6-py3-none-any.whl (110 kB)\n",
            "\u001b[2K     \u001b[90m━━━━━━━━━━━━━━━━━━━━━━━━━━━━━━━━━━━━━━\u001b[0m \u001b[32m110.5/110.5 kB\u001b[0m \u001b[31m15.6 MB/s\u001b[0m eta \u001b[36m0:00:00\u001b[0m\n",
            "\u001b[?25hRequirement already satisfied: pandas in /usr/local/lib/python3.10/dist-packages (from datasets) (1.5.3)\n",
            "Requirement already satisfied: requests>=2.19.0 in /usr/local/lib/python3.10/dist-packages (from datasets) (2.27.1)\n",
            "Requirement already satisfied: tqdm>=4.62.1 in /usr/local/lib/python3.10/dist-packages (from datasets) (4.65.0)\n",
            "Collecting xxhash (from datasets)\n",
            "  Downloading xxhash-3.2.0-cp310-cp310-manylinux_2_17_x86_64.manylinux2014_x86_64.whl (212 kB)\n",
            "\u001b[2K     \u001b[90m━━━━━━━━━━━━━━━━━━━━━━━━━━━━━━━━━━━━━━\u001b[0m \u001b[32m212.5/212.5 kB\u001b[0m \u001b[31m26.6 MB/s\u001b[0m eta \u001b[36m0:00:00\u001b[0m\n",
            "\u001b[?25hCollecting multiprocess (from datasets)\n",
            "  Downloading multiprocess-0.70.15-py310-none-any.whl (134 kB)\n",
            "\u001b[2K     \u001b[90m━━━━━━━━━━━━━━━━━━━━━━━━━━━━━━━━━━━━━━\u001b[0m \u001b[32m134.8/134.8 kB\u001b[0m \u001b[31m18.3 MB/s\u001b[0m eta \u001b[36m0:00:00\u001b[0m\n",
            "\u001b[?25hRequirement already satisfied: fsspec[http]>=2021.11.1 in /usr/local/lib/python3.10/dist-packages (from datasets) (2023.6.0)\n",
            "Requirement already satisfied: aiohttp in /usr/local/lib/python3.10/dist-packages (from datasets) (3.8.4)\n",
            "Requirement already satisfied: huggingface-hub<1.0.0,>=0.11.0 in /usr/local/lib/python3.10/dist-packages (from datasets) (0.16.4)\n",
            "Requirement already satisfied: packaging in /usr/local/lib/python3.10/dist-packages (from datasets) (23.1)\n",
            "Requirement already satisfied: pyyaml>=5.1 in /usr/local/lib/python3.10/dist-packages (from datasets) (6.0.1)\n",
            "Requirement already satisfied: attrs>=17.3.0 in /usr/local/lib/python3.10/dist-packages (from aiohttp->datasets) (23.1.0)\n",
            "Requirement already satisfied: charset-normalizer<4.0,>=2.0 in /usr/local/lib/python3.10/dist-packages (from aiohttp->datasets) (2.0.12)\n",
            "Requirement already satisfied: multidict<7.0,>=4.5 in /usr/local/lib/python3.10/dist-packages (from aiohttp->datasets) (6.0.4)\n",
            "Requirement already satisfied: async-timeout<5.0,>=4.0.0a3 in /usr/local/lib/python3.10/dist-packages (from aiohttp->datasets) (4.0.2)\n",
            "Requirement already satisfied: yarl<2.0,>=1.0 in /usr/local/lib/python3.10/dist-packages (from aiohttp->datasets) (1.9.2)\n",
            "Requirement already satisfied: frozenlist>=1.1.1 in /usr/local/lib/python3.10/dist-packages (from aiohttp->datasets) (1.4.0)\n",
            "Requirement already satisfied: aiosignal>=1.1.2 in /usr/local/lib/python3.10/dist-packages (from aiohttp->datasets) (1.3.1)\n",
            "Requirement already satisfied: filelock in /usr/local/lib/python3.10/dist-packages (from huggingface-hub<1.0.0,>=0.11.0->datasets) (3.12.2)\n",
            "Requirement already satisfied: typing-extensions>=3.7.4.3 in /usr/local/lib/python3.10/dist-packages (from huggingface-hub<1.0.0,>=0.11.0->datasets) (4.7.1)\n",
            "Requirement already satisfied: urllib3<1.27,>=1.21.1 in /usr/local/lib/python3.10/dist-packages (from requests>=2.19.0->datasets) (1.26.16)\n",
            "Requirement already satisfied: certifi>=2017.4.17 in /usr/local/lib/python3.10/dist-packages (from requests>=2.19.0->datasets) (2023.5.7)\n",
            "Requirement already satisfied: idna<4,>=2.5 in /usr/local/lib/python3.10/dist-packages (from requests>=2.19.0->datasets) (3.4)\n",
            "INFO: pip is looking at multiple versions of multiprocess to determine which version is compatible with other requirements. This could take a while.\n",
            "  Downloading multiprocess-0.70.14-py310-none-any.whl (134 kB)\n",
            "\u001b[2K     \u001b[90m━━━━━━━━━━━━━━━━━━━━━━━━━━━━━━━━━━━━━━\u001b[0m \u001b[32m134.3/134.3 kB\u001b[0m \u001b[31m16.2 MB/s\u001b[0m eta \u001b[36m0:00:00\u001b[0m\n",
            "\u001b[?25hRequirement already satisfied: python-dateutil>=2.8.1 in /usr/local/lib/python3.10/dist-packages (from pandas->datasets) (2.8.2)\n",
            "Requirement already satisfied: pytz>=2020.1 in /usr/local/lib/python3.10/dist-packages (from pandas->datasets) (2022.7.1)\n",
            "Requirement already satisfied: six>=1.5 in /usr/local/lib/python3.10/dist-packages (from python-dateutil>=2.8.1->pandas->datasets) (1.16.0)\n",
            "Installing collected packages: xxhash, dill, multiprocess, datasets\n",
            "Successfully installed datasets-2.13.1 dill-0.3.6 multiprocess-0.70.14 xxhash-3.2.0\n"
          ]
        }
      ],
      "source": [
        "!pip install datasets"
      ]
    },
    {
      "cell_type": "code",
      "execution_count": 3,
      "metadata": {
        "colab": {
          "base_uri": "https://localhost:8080/"
        },
        "id": "KQZ0m9kd-ySK",
        "outputId": "898371f4-a82a-4c1a-f2ef-d66c81bd01e5"
      },
      "outputs": [
        {
          "output_type": "stream",
          "name": "stdout",
          "text": [
            "Requirement already satisfied: accelerate in /usr/local/lib/python3.10/dist-packages (0.21.0)\n",
            "Requirement already satisfied: numpy>=1.17 in /usr/local/lib/python3.10/dist-packages (from accelerate) (1.22.4)\n",
            "Requirement already satisfied: packaging>=20.0 in /usr/local/lib/python3.10/dist-packages (from accelerate) (23.1)\n",
            "Requirement already satisfied: psutil in /usr/local/lib/python3.10/dist-packages (from accelerate) (5.9.5)\n",
            "Requirement already satisfied: pyyaml in /usr/local/lib/python3.10/dist-packages (from accelerate) (6.0.1)\n",
            "Requirement already satisfied: torch>=1.10.0 in /usr/local/lib/python3.10/dist-packages (from accelerate) (2.0.1+cu118)\n",
            "Requirement already satisfied: filelock in /usr/local/lib/python3.10/dist-packages (from torch>=1.10.0->accelerate) (3.12.2)\n",
            "Requirement already satisfied: typing-extensions in /usr/local/lib/python3.10/dist-packages (from torch>=1.10.0->accelerate) (4.7.1)\n",
            "Requirement already satisfied: sympy in /usr/local/lib/python3.10/dist-packages (from torch>=1.10.0->accelerate) (1.11.1)\n",
            "Requirement already satisfied: networkx in /usr/local/lib/python3.10/dist-packages (from torch>=1.10.0->accelerate) (3.1)\n",
            "Requirement already satisfied: jinja2 in /usr/local/lib/python3.10/dist-packages (from torch>=1.10.0->accelerate) (3.1.2)\n",
            "Requirement already satisfied: triton==2.0.0 in /usr/local/lib/python3.10/dist-packages (from torch>=1.10.0->accelerate) (2.0.0)\n",
            "Requirement already satisfied: cmake in /usr/local/lib/python3.10/dist-packages (from triton==2.0.0->torch>=1.10.0->accelerate) (3.25.2)\n",
            "Requirement already satisfied: lit in /usr/local/lib/python3.10/dist-packages (from triton==2.0.0->torch>=1.10.0->accelerate) (16.0.6)\n",
            "Requirement already satisfied: MarkupSafe>=2.0 in /usr/local/lib/python3.10/dist-packages (from jinja2->torch>=1.10.0->accelerate) (2.1.3)\n",
            "Requirement already satisfied: mpmath>=0.19 in /usr/local/lib/python3.10/dist-packages (from sympy->torch>=1.10.0->accelerate) (1.3.0)\n",
            "Collecting emoji\n",
            "  Downloading emoji-2.6.0.tar.gz (356 kB)\n",
            "\u001b[2K     \u001b[90m━━━━━━━━━━━━━━━━━━━━━━━━━━━━━━━━━━━━━━━\u001b[0m \u001b[32m356.6/356.6 kB\u001b[0m \u001b[31m6.8 MB/s\u001b[0m eta \u001b[36m0:00:00\u001b[0m\n",
            "\u001b[?25h  Preparing metadata (setup.py) ... \u001b[?25l\u001b[?25hdone\n",
            "Building wheels for collected packages: emoji\n",
            "  Building wheel for emoji (setup.py) ... \u001b[?25l\u001b[?25hdone\n",
            "  Created wheel for emoji: filename=emoji-2.6.0-py2.py3-none-any.whl size=351311 sha256=d2add6d253a2a6c09981676cedd6644f2fabd9fc8a8a2f0beeaa0b3fc6acb431\n",
            "  Stored in directory: /root/.cache/pip/wheels/ea/0b/64/114bc939d0083621aa41521e21be246c888260b8aa21e6c1ad\n",
            "Successfully built emoji\n",
            "Installing collected packages: emoji\n",
            "Successfully installed emoji-2.6.0\n"
          ]
        }
      ],
      "source": [
        "!pip install accelerate -U\n",
        "!pip install emoji"
      ]
    },
    {
      "cell_type": "code",
      "execution_count": 4,
      "metadata": {
        "id": "KKYnU5rg93k1"
      },
      "outputs": [],
      "source": [
        "#Import Libraries\n",
        "import os\n",
        "\n",
        "#Data manipulation\n",
        "import pandas as pd\n",
        "import numpy as np\n",
        "import datasets\n",
        "from sklearn.model_selection import train_test_split\n",
        "import collections\n",
        "import emoji\n",
        "import matplotlib.pyplot as plt\n",
        "from wordcloud import WordCloud\n",
        "import re\n",
        "import seaborn as sns\n",
        "\n",
        "#finetuning\n",
        "from transformers import AutoTokenizer\n",
        "from transformers import TrainingArguments\n",
        "from transformers import AutoModelForSequenceClassification\n",
        "from transformers import Trainer\n",
        "\n",
        "#Evaluation\n",
        "from datasets import load_metric, load_dataset\n",
        "from sklearn.metrics import f1_score\n",
        "from huggingface_hub import notebook_login"
      ]
    },
    {
      "cell_type": "code",
      "execution_count": 5,
      "metadata": {
        "colab": {
          "base_uri": "https://localhost:8080/"
        },
        "id": "BejpPFN7-oAU",
        "outputId": "ed3ee73c-52b0-4b86-8718-28cd15a1fa55"
      },
      "outputs": [
        {
          "output_type": "stream",
          "name": "stdout",
          "text": [
            "Mounted at /content/drive\n"
          ]
        }
      ],
      "source": [
        "from google.colab import drive\n",
        "drive.mount('/content/drive')"
      ]
    },
    {
      "cell_type": "code",
      "execution_count": 6,
      "metadata": {
        "colab": {
          "base_uri": "https://localhost:8080/",
          "height": 113,
          "referenced_widgets": [
            "ac00f532b7e240ba82f99c1f1f962f29",
            "59b5ba127170427ab9ed4d2c94fa0207",
            "087c3316a4c44bde89d0180b650ff0e5",
            "e5f7d06593b64926884352bb16ee0249",
            "8a3c5a550bd74a149284782e9f8c27ec",
            "a6395786a6b9413dbd6f34b2f6a5a24b",
            "31bba73e95da4b37af9cfb36a4d4f947",
            "09d8e142ed9e494894b13fdc6a8afde9",
            "df27c98112ed4d48881ed196c11244a6",
            "db9e67cada954a5aa7c2e45ac1913f84",
            "bc0b9e5b1c364f25bf7e818571e34fae",
            "c4698d37dc99422d91329c5ec3846973",
            "304efceca5514f06b7f0bd2bf54cff2e",
            "e2fd3c748b9c45e1a95867b3313caf4f",
            "db3ae6323cb84ec9861b59b56fb2ae00",
            "df3fedce007a47ea9cd74d4814f38b09",
            "2a0e6280c0b044e984d2182684166d67",
            "cb1c6fe18aea48b2b59b9895797e8f92",
            "ad87b9f1c42540f89cd9b8ba2ce64a17",
            "bb237a5aae5f48528c975fbb7c5eb83c",
            "864e02747390402e8326932d8aa10e8c",
            "f9dd86b4d49f4814840701f1aa28d29f",
            "8f59b7250a92401097726cdfe078e16d",
            "d4e1d1c9eb064f479f377005ab82c22a",
            "0734995226184aee965304742d6daa12",
            "0ecf74f316f8453eb3998da8273d5d3c",
            "ba5afa215a124c9f9e6db65ea5e7bef8",
            "97d9d88fc12c40db84fa78a508ed5452",
            "c96f634a5d844e1e818d5f5aa4a47c6e"
          ]
        },
        "id": "Zq616t120DrX",
        "outputId": "e13afc50-fce6-45bf-8a8c-b018f6f0251b"
      },
      "outputs": [
        {
          "output_type": "display_data",
          "data": {
            "text/plain": [
              "VBox(children=(HTML(value='<center> <img\\nsrc=https://huggingface.co/front/assets/huggingface_logo-noborder.sv…"
            ],
            "application/vnd.jupyter.widget-view+json": {
              "version_major": 2,
              "version_minor": 0,
              "model_id": "ac00f532b7e240ba82f99c1f1f962f29"
            }
          },
          "metadata": {}
        }
      ],
      "source": [
        "#login to huggingface\n",
        "notebook_login()"
      ]
    },
    {
      "cell_type": "markdown",
      "metadata": {
        "id": "rv6GMCKzzY2O"
      },
      "source": [
        "Activate weight and Biases"
      ]
    },
    {
      "cell_type": "code",
      "execution_count": 7,
      "metadata": {
        "id": "XfpG2xQ7zY2P"
      },
      "outputs": [],
      "source": [
        "os.environ[\"WANDB_DISABLED\"] = \"false\""
      ]
    },
    {
      "cell_type": "markdown",
      "metadata": {
        "id": "Y13sisybzY2P"
      },
      "source": [
        "Load The Datasets"
      ]
    },
    {
      "cell_type": "code",
      "execution_count": 8,
      "metadata": {
        "colab": {
          "base_uri": "https://localhost:8080/",
          "height": 424
        },
        "id": "GHQDm5r0zY2P",
        "outputId": "24e5ebbb-4602-4b1c-8bcd-cc0feff6a8f3"
      },
      "outputs": [
        {
          "output_type": "execute_result",
          "data": {
            "text/plain": [
              "      tweet_id                                          safe_text  label  \\\n",
              "0     CL1KWCMY  me amp the big homie meanboy meanboy mb mbs mm...    0.0   \n",
              "1     E3303EME  im thinking of devoting my career to proving a...    1.0   \n",
              "2     M4IVFSMS  whatcausesautism vaccines do not vaccinate you...   -1.0   \n",
              "3     1DR6ROZ4  i mean if they immunize my kid with something ...   -1.0   \n",
              "4     J77ENIIE  thanks to  catch me performing at la nuit nycs...    0.0   \n",
              "...        ...                                                ...    ...   \n",
              "9994  IU0TIJDI  living in a time where the sperm i used to was...    1.0   \n",
              "9995  WKKPCJY6     in spite of all measles outbreaks judge in ...    1.0   \n",
              "9996  ST3A265H  interesting trends in child immunization in ok...    0.0   \n",
              "9997  6Z27IJGD  cdc says measles are at highest levels in deca...    0.0   \n",
              "9998  P6190L3Q  pneumonia vaccine for women w risk of pulmonar...    1.0   \n",
              "\n",
              "      agreement  \n",
              "0      1.000000  \n",
              "1      1.000000  \n",
              "2      1.000000  \n",
              "3      1.000000  \n",
              "4      1.000000  \n",
              "...         ...  \n",
              "9994   1.000000  \n",
              "9995   0.666667  \n",
              "9996   1.000000  \n",
              "9997   1.000000  \n",
              "9998   0.666667  \n",
              "\n",
              "[9999 rows x 4 columns]"
            ],
            "text/html": [
              "\n",
              "\n",
              "  <div id=\"df-59a09d2e-c0b6-496f-a905-7fae1d35723f\">\n",
              "    <div class=\"colab-df-container\">\n",
              "      <div>\n",
              "<style scoped>\n",
              "    .dataframe tbody tr th:only-of-type {\n",
              "        vertical-align: middle;\n",
              "    }\n",
              "\n",
              "    .dataframe tbody tr th {\n",
              "        vertical-align: top;\n",
              "    }\n",
              "\n",
              "    .dataframe thead th {\n",
              "        text-align: right;\n",
              "    }\n",
              "</style>\n",
              "<table border=\"1\" class=\"dataframe\">\n",
              "  <thead>\n",
              "    <tr style=\"text-align: right;\">\n",
              "      <th></th>\n",
              "      <th>tweet_id</th>\n",
              "      <th>safe_text</th>\n",
              "      <th>label</th>\n",
              "      <th>agreement</th>\n",
              "    </tr>\n",
              "  </thead>\n",
              "  <tbody>\n",
              "    <tr>\n",
              "      <th>0</th>\n",
              "      <td>CL1KWCMY</td>\n",
              "      <td>me amp the big homie meanboy meanboy mb mbs mm...</td>\n",
              "      <td>0.0</td>\n",
              "      <td>1.000000</td>\n",
              "    </tr>\n",
              "    <tr>\n",
              "      <th>1</th>\n",
              "      <td>E3303EME</td>\n",
              "      <td>im thinking of devoting my career to proving a...</td>\n",
              "      <td>1.0</td>\n",
              "      <td>1.000000</td>\n",
              "    </tr>\n",
              "    <tr>\n",
              "      <th>2</th>\n",
              "      <td>M4IVFSMS</td>\n",
              "      <td>whatcausesautism vaccines do not vaccinate you...</td>\n",
              "      <td>-1.0</td>\n",
              "      <td>1.000000</td>\n",
              "    </tr>\n",
              "    <tr>\n",
              "      <th>3</th>\n",
              "      <td>1DR6ROZ4</td>\n",
              "      <td>i mean if they immunize my kid with something ...</td>\n",
              "      <td>-1.0</td>\n",
              "      <td>1.000000</td>\n",
              "    </tr>\n",
              "    <tr>\n",
              "      <th>4</th>\n",
              "      <td>J77ENIIE</td>\n",
              "      <td>thanks to  catch me performing at la nuit nycs...</td>\n",
              "      <td>0.0</td>\n",
              "      <td>1.000000</td>\n",
              "    </tr>\n",
              "    <tr>\n",
              "      <th>...</th>\n",
              "      <td>...</td>\n",
              "      <td>...</td>\n",
              "      <td>...</td>\n",
              "      <td>...</td>\n",
              "    </tr>\n",
              "    <tr>\n",
              "      <th>9994</th>\n",
              "      <td>IU0TIJDI</td>\n",
              "      <td>living in a time where the sperm i used to was...</td>\n",
              "      <td>1.0</td>\n",
              "      <td>1.000000</td>\n",
              "    </tr>\n",
              "    <tr>\n",
              "      <th>9995</th>\n",
              "      <td>WKKPCJY6</td>\n",
              "      <td>in spite of all measles outbreaks judge in ...</td>\n",
              "      <td>1.0</td>\n",
              "      <td>0.666667</td>\n",
              "    </tr>\n",
              "    <tr>\n",
              "      <th>9996</th>\n",
              "      <td>ST3A265H</td>\n",
              "      <td>interesting trends in child immunization in ok...</td>\n",
              "      <td>0.0</td>\n",
              "      <td>1.000000</td>\n",
              "    </tr>\n",
              "    <tr>\n",
              "      <th>9997</th>\n",
              "      <td>6Z27IJGD</td>\n",
              "      <td>cdc says measles are at highest levels in deca...</td>\n",
              "      <td>0.0</td>\n",
              "      <td>1.000000</td>\n",
              "    </tr>\n",
              "    <tr>\n",
              "      <th>9998</th>\n",
              "      <td>P6190L3Q</td>\n",
              "      <td>pneumonia vaccine for women w risk of pulmonar...</td>\n",
              "      <td>1.0</td>\n",
              "      <td>0.666667</td>\n",
              "    </tr>\n",
              "  </tbody>\n",
              "</table>\n",
              "<p>9999 rows × 4 columns</p>\n",
              "</div>\n",
              "      <button class=\"colab-df-convert\" onclick=\"convertToInteractive('df-59a09d2e-c0b6-496f-a905-7fae1d35723f')\"\n",
              "              title=\"Convert this dataframe to an interactive table.\"\n",
              "              style=\"display:none;\">\n",
              "\n",
              "  <svg xmlns=\"http://www.w3.org/2000/svg\" height=\"24px\"viewBox=\"0 0 24 24\"\n",
              "       width=\"24px\">\n",
              "    <path d=\"M0 0h24v24H0V0z\" fill=\"none\"/>\n",
              "    <path d=\"M18.56 5.44l.94 2.06.94-2.06 2.06-.94-2.06-.94-.94-2.06-.94 2.06-2.06.94zm-11 1L8.5 8.5l.94-2.06 2.06-.94-2.06-.94L8.5 2.5l-.94 2.06-2.06.94zm10 10l.94 2.06.94-2.06 2.06-.94-2.06-.94-.94-2.06-.94 2.06-2.06.94z\"/><path d=\"M17.41 7.96l-1.37-1.37c-.4-.4-.92-.59-1.43-.59-.52 0-1.04.2-1.43.59L10.3 9.45l-7.72 7.72c-.78.78-.78 2.05 0 2.83L4 21.41c.39.39.9.59 1.41.59.51 0 1.02-.2 1.41-.59l7.78-7.78 2.81-2.81c.8-.78.8-2.07 0-2.86zM5.41 20L4 18.59l7.72-7.72 1.47 1.35L5.41 20z\"/>\n",
              "  </svg>\n",
              "      </button>\n",
              "\n",
              "\n",
              "\n",
              "    <div id=\"df-30390df9-8c3f-417c-ad7b-2f8db8c01b2c\">\n",
              "      <button class=\"colab-df-quickchart\" onclick=\"quickchart('df-30390df9-8c3f-417c-ad7b-2f8db8c01b2c')\"\n",
              "              title=\"Suggest charts.\"\n",
              "              style=\"display:none;\">\n",
              "\n",
              "<svg xmlns=\"http://www.w3.org/2000/svg\" height=\"24px\"viewBox=\"0 0 24 24\"\n",
              "     width=\"24px\">\n",
              "    <g>\n",
              "        <path d=\"M19 3H5c-1.1 0-2 .9-2 2v14c0 1.1.9 2 2 2h14c1.1 0 2-.9 2-2V5c0-1.1-.9-2-2-2zM9 17H7v-7h2v7zm4 0h-2V7h2v10zm4 0h-2v-4h2v4z\"/>\n",
              "    </g>\n",
              "</svg>\n",
              "      </button>\n",
              "    </div>\n",
              "\n",
              "<style>\n",
              "  .colab-df-quickchart {\n",
              "    background-color: #E8F0FE;\n",
              "    border: none;\n",
              "    border-radius: 50%;\n",
              "    cursor: pointer;\n",
              "    display: none;\n",
              "    fill: #1967D2;\n",
              "    height: 32px;\n",
              "    padding: 0 0 0 0;\n",
              "    width: 32px;\n",
              "  }\n",
              "\n",
              "  .colab-df-quickchart:hover {\n",
              "    background-color: #E2EBFA;\n",
              "    box-shadow: 0px 1px 2px rgba(60, 64, 67, 0.3), 0px 1px 3px 1px rgba(60, 64, 67, 0.15);\n",
              "    fill: #174EA6;\n",
              "  }\n",
              "\n",
              "  [theme=dark] .colab-df-quickchart {\n",
              "    background-color: #3B4455;\n",
              "    fill: #D2E3FC;\n",
              "  }\n",
              "\n",
              "  [theme=dark] .colab-df-quickchart:hover {\n",
              "    background-color: #434B5C;\n",
              "    box-shadow: 0px 1px 3px 1px rgba(0, 0, 0, 0.15);\n",
              "    filter: drop-shadow(0px 1px 2px rgba(0, 0, 0, 0.3));\n",
              "    fill: #FFFFFF;\n",
              "  }\n",
              "</style>\n",
              "\n",
              "    <script>\n",
              "      async function quickchart(key) {\n",
              "        const containerElement = document.querySelector('#' + key);\n",
              "        const charts = await google.colab.kernel.invokeFunction(\n",
              "            'suggestCharts', [key], {});\n",
              "      }\n",
              "    </script>\n",
              "\n",
              "      <script>\n",
              "\n",
              "function displayQuickchartButton(domScope) {\n",
              "  let quickchartButtonEl =\n",
              "    domScope.querySelector('#df-30390df9-8c3f-417c-ad7b-2f8db8c01b2c button.colab-df-quickchart');\n",
              "  quickchartButtonEl.style.display =\n",
              "    google.colab.kernel.accessAllowed ? 'block' : 'none';\n",
              "}\n",
              "\n",
              "        displayQuickchartButton(document);\n",
              "      </script>\n",
              "      <style>\n",
              "    .colab-df-container {\n",
              "      display:flex;\n",
              "      flex-wrap:wrap;\n",
              "      gap: 12px;\n",
              "    }\n",
              "\n",
              "    .colab-df-convert {\n",
              "      background-color: #E8F0FE;\n",
              "      border: none;\n",
              "      border-radius: 50%;\n",
              "      cursor: pointer;\n",
              "      display: none;\n",
              "      fill: #1967D2;\n",
              "      height: 32px;\n",
              "      padding: 0 0 0 0;\n",
              "      width: 32px;\n",
              "    }\n",
              "\n",
              "    .colab-df-convert:hover {\n",
              "      background-color: #E2EBFA;\n",
              "      box-shadow: 0px 1px 2px rgba(60, 64, 67, 0.3), 0px 1px 3px 1px rgba(60, 64, 67, 0.15);\n",
              "      fill: #174EA6;\n",
              "    }\n",
              "\n",
              "    [theme=dark] .colab-df-convert {\n",
              "      background-color: #3B4455;\n",
              "      fill: #D2E3FC;\n",
              "    }\n",
              "\n",
              "    [theme=dark] .colab-df-convert:hover {\n",
              "      background-color: #434B5C;\n",
              "      box-shadow: 0px 1px 3px 1px rgba(0, 0, 0, 0.15);\n",
              "      filter: drop-shadow(0px 1px 2px rgba(0, 0, 0, 0.3));\n",
              "      fill: #FFFFFF;\n",
              "    }\n",
              "  </style>\n",
              "\n",
              "      <script>\n",
              "        const buttonEl =\n",
              "          document.querySelector('#df-59a09d2e-c0b6-496f-a905-7fae1d35723f button.colab-df-convert');\n",
              "        buttonEl.style.display =\n",
              "          google.colab.kernel.accessAllowed ? 'block' : 'none';\n",
              "\n",
              "        async function convertToInteractive(key) {\n",
              "          const element = document.querySelector('#df-59a09d2e-c0b6-496f-a905-7fae1d35723f');\n",
              "          const dataTable =\n",
              "            await google.colab.kernel.invokeFunction('convertToInteractive',\n",
              "                                                     [key], {});\n",
              "          if (!dataTable) return;\n",
              "\n",
              "          const docLinkHtml = 'Like what you see? Visit the ' +\n",
              "            '<a target=\"_blank\" href=https://colab.research.google.com/notebooks/data_table.ipynb>data table notebook</a>'\n",
              "            + ' to learn more about interactive tables.';\n",
              "          element.innerHTML = '';\n",
              "          dataTable['output_type'] = 'display_data';\n",
              "          await google.colab.output.renderOutput(dataTable, element);\n",
              "          const docLink = document.createElement('div');\n",
              "          docLink.innerHTML = docLinkHtml;\n",
              "          element.appendChild(docLink);\n",
              "        }\n",
              "      </script>\n",
              "    </div>\n",
              "  </div>\n"
            ]
          },
          "metadata": {},
          "execution_count": 8
        }
      ],
      "source": [
        "#load data\n",
        "train_df=pd.read_csv('/content/drive/MyDrive/Sentimental Analysis/filtered_train.csv')\n",
        "\n",
        "#check first 5\n",
        "\n",
        "train_df\n"
      ]
    },
    {
      "cell_type": "code",
      "execution_count": 9,
      "metadata": {
        "colab": {
          "base_uri": "https://localhost:8080/"
        },
        "id": "JOEeQ8U3v9lL",
        "outputId": "76add79f-7f41-48ff-c6e6-8b4b8701dba8"
      },
      "outputs": [
        {
          "output_type": "stream",
          "name": "stdout",
          "text": [
            "<class 'pandas.core.frame.DataFrame'>\n",
            "RangeIndex: 9999 entries, 0 to 9998\n",
            "Data columns (total 4 columns):\n",
            " #   Column     Non-Null Count  Dtype  \n",
            "---  ------     --------------  -----  \n",
            " 0   tweet_id   9999 non-null   object \n",
            " 1   safe_text  9999 non-null   object \n",
            " 2   label      9999 non-null   float64\n",
            " 3   agreement  9999 non-null   float64\n",
            "dtypes: float64(2), object(2)\n",
            "memory usage: 312.6+ KB\n"
          ]
        }
      ],
      "source": [
        "#view info\n",
        "train_df.info()"
      ]
    },
    {
      "cell_type": "markdown",
      "metadata": {
        "id": "zGZX8tIiwW84"
      },
      "source": [
        "# Remove the rows with null values in the label and agreement columns of the train_df DataFrame"
      ]
    },
    {
      "cell_type": "code",
      "execution_count": 10,
      "metadata": {
        "id": "qp0D5leSv9p9"
      },
      "outputs": [],
      "source": [
        "# Remove rows with null values\n",
        "train_df.dropna(subset=['label', 'agreement'], inplace=True)"
      ]
    },
    {
      "cell_type": "code",
      "execution_count": 11,
      "metadata": {
        "colab": {
          "base_uri": "https://localhost:8080/"
        },
        "id": "_BQPiVAFv9xk",
        "outputId": "e6266f24-3a8e-4eaf-8416-2d549c2e0928"
      },
      "outputs": [
        {
          "output_type": "stream",
          "name": "stdout",
          "text": [
            "<class 'pandas.core.frame.DataFrame'>\n",
            "RangeIndex: 9999 entries, 0 to 9998\n",
            "Data columns (total 4 columns):\n",
            " #   Column     Non-Null Count  Dtype  \n",
            "---  ------     --------------  -----  \n",
            " 0   tweet_id   9999 non-null   object \n",
            " 1   safe_text  9999 non-null   object \n",
            " 2   label      9999 non-null   float64\n",
            " 3   agreement  9999 non-null   float64\n",
            "dtypes: float64(2), object(2)\n",
            "memory usage: 312.6+ KB\n"
          ]
        }
      ],
      "source": [
        "# View info once again\n",
        "train_df.info()"
      ]
    },
    {
      "cell_type": "markdown",
      "metadata": {
        "id": "_MsyvB5HwsOg"
      },
      "source": [
        "## tweet_id is an object, the tweet is an object as expected while label and agreements are floats"
      ]
    },
    {
      "cell_type": "code",
      "execution_count": 12,
      "metadata": {
        "colab": {
          "base_uri": "https://localhost:8080/"
        },
        "id": "hwmsrNuNv928",
        "outputId": "c13255d4-7afb-4a35-c1b5-843fe17cda35"
      },
      "outputs": [
        {
          "output_type": "stream",
          "name": "stdout",
          "text": [
            "me amp the big homie meanboy meanboy mb mbs mmr stegmanlife  stegman st \n",
            "\n",
            "im thinking of devoting my career to proving autism isnt caused by vaccines due to the idiotic posts ive seen about world autism day\n",
            "\n",
            "whatcausesautism vaccines do not vaccinate your child\n",
            "\n",
            "i mean if they immunize my kid with something that wont secretly kill him years down the line then im all for it but i dont trust that\n",
            "\n",
            "thanks to  catch me performing at la nuit nycst ave show starts at  jennifair mmr… \n",
            "\n",
            " a nearly  year old study when mental health studies and vaccines were relatively in their infancies that has been refuted\n",
            "\n",
            "study of more than  kids finds no link between mmr vaccine and autism \n",
            "\n",
            "psa vaccinate your fucking kids\n",
            "\n",
            "coughing extra on the shuttle and everyone thinks i have the measles 😂 vaccinateyourkids\n",
            "\n",
            "aids vaccine created at oregon health amp science university may clear virus from body   \n",
            "\n"
          ]
        }
      ],
      "source": [
        "#look at some of the tweets and how they are written\n",
        "for tweet in range(10):\n",
        "    tweet_str=train_df['safe_text'][tweet]\n",
        "    print(f'{tweet_str}\\n')"
      ]
    },
    {
      "cell_type": "markdown",
      "metadata": {
        "id": "HGyLHg2ew62x"
      },
      "source": [
        "### Findings\n",
        "Some tweets contain hashtags, others contain numbers while others contain plain text\n",
        "\n",
        "usernames have been replaced with < user > while links have been replaced with < url >"
      ]
    },
    {
      "cell_type": "markdown",
      "metadata": {
        "id": "NOKrX_5mxDV1"
      },
      "source": [
        "## Exploratory Data analysis\n",
        "1. Use wordcloud to look at the most words appearing\n",
        "2. Check for emojis\n",
        "3. Most used words"
      ]
    },
    {
      "cell_type": "markdown",
      "metadata": {
        "id": "28P3YBZJxEBj"
      },
      "source": [
        "## Visualize frequent words using wordcloud"
      ]
    },
    {
      "cell_type": "code",
      "execution_count": null,
      "metadata": {
        "id": "OKCpTRWdv9-c"
      },
      "outputs": [],
      "source": [
        "# Generate a word cloud from the message text data\n",
        "text = \" \".join(tweet for tweet in train_df.safe_text)\n",
        "wordcloud = WordCloud(width=800, height=400, max_font_size=200, background_color=\"white\").generate_from_text(text)\n",
        "\n",
        "# Display the word cloud image\n",
        "plt.figure(figsize=(16,8))\n",
        "plt.imshow(wordcloud, interpolation='bilinear')\n",
        "plt.axis(\"off\")\n",
        "plt.show()"
      ]
    },
    {
      "cell_type": "markdown",
      "metadata": {
        "id": "jKQHTZqnxY-y"
      },
      "source": [
        "### User and Url won't be relevant to our analysis so lets remove them"
      ]
    },
    {
      "cell_type": "code",
      "execution_count": null,
      "metadata": {
        "id": "_b2GTs-tv-B2"
      },
      "outputs": [],
      "source": [
        "#replace user,url in the df\n",
        "train_df['safe_text']=train_df['safe_text'].replace({'user':'','url':''},regex=True)\n",
        "\n",
        "\n",
        "# regenerate wordcloud\n",
        "text = \" \".join(tweet for tweet in train_df.safe_text)\n",
        "wordcloud = WordCloud(width=800, height=400, max_font_size=200, background_color=\"white\").generate_from_text(text)\n",
        "\n",
        "# Display the word cloud image\n",
        "plt.figure(figsize=(16,8))\n",
        "plt.imshow(wordcloud, interpolation='bilinear')\n",
        "plt.axis(\"off\")\n",
        "plt.show()"
      ]
    },
    {
      "cell_type": "markdown",
      "metadata": {
        "id": "omlYqCQAxnTf"
      },
      "source": [
        "Looks like the the vaccination is for measles and parents might be worried about their kids. This is why we should understand the sentiment in each tweet on how parents feel about this vaccination."
      ]
    },
    {
      "cell_type": "markdown",
      "metadata": {
        "id": "Lx9mzj_CxqAU"
      },
      "source": [
        "## Let's check word Frequency again using barcharts"
      ]
    },
    {
      "cell_type": "code",
      "execution_count": null,
      "metadata": {
        "id": "8cJEoF6mv-FR"
      },
      "outputs": [],
      "source": [
        "# Combine all tweets\n",
        "tweets = \" \".join(train_df['safe_text'].astype(str))\n",
        "\n",
        "# Split the string into a list of words ignoring special characters\n",
        "words = re.findall(r'\\b\\w+\\b', tweets)\n",
        "\n",
        "# Convert all words to lowercase\n",
        "words = [word.lower() for word in words]\n",
        "\n",
        "# Count the occurrences of each word using Counter\n",
        "word_counts = collections.Counter(words)\n",
        "\n",
        "# Combine words that differ only with 's' at the end\n",
        "combined_words = []\n",
        "for word in words:\n",
        "    if word.endswith('s') and len(word) > 1:\n",
        "        singular_word = word[:-1]\n",
        "        if singular_word in word_counts:\n",
        "            combined_words.append(singular_word)\n",
        "        else:\n",
        "            combined_words.append(word)\n",
        "    else:\n",
        "        combined_words.append(word)\n",
        "\n",
        "# Recount the occurrences of each word using Counter\n",
        "word_counts = collections.Counter(combined_words)\n",
        "\n",
        "# Get the top 20 most common words and their counts\n",
        "top_words = dict(word_counts.most_common(20))\n",
        "\n",
        "top_words"
      ]
    },
    {
      "cell_type": "markdown",
      "metadata": {
        "id": "HUHo80GWyA9n"
      },
      "source": [
        "## Visualize word frequency using bar chart"
      ]
    },
    {
      "cell_type": "code",
      "execution_count": null,
      "metadata": {
        "id": "murTWDPNv-KE"
      },
      "outputs": [],
      "source": [
        "# Plot the bar chart\n",
        "plt.figure(figsize=(10, 6))\n",
        "plt.bar(top_words.keys(), top_words.values())\n",
        "plt.xlabel('Words')\n",
        "plt.ylabel('Frequency')\n",
        "plt.title('Top 20 Most Common Words')\n",
        "plt.xticks(rotation=45)\n",
        "plt.show()"
      ]
    },
    {
      "cell_type": "markdown",
      "metadata": {
        "id": "sGMB1dbeyKOt"
      },
      "source": [
        "## Check for the presence of Emojis: Emojis are a fundamental part of tweeting today"
      ]
    },
    {
      "cell_type": "code",
      "execution_count": null,
      "metadata": {
        "id": "HnuVxHbhv-N6"
      },
      "outputs": [],
      "source": [
        "#Function to extract all emojis from a text\n",
        "def extract_emojis(tweet):\n",
        "    return ''.join(E for E in tweet if E in emoji.EMOJI_DATA)\n",
        "\n",
        "\n",
        "# Extract all emojis from the message text data\n",
        "emojis = extract_emojis(tweets)"
      ]
    },
    {
      "cell_type": "markdown",
      "metadata": {
        "id": "L5Hvjz4QyURv"
      },
      "source": [
        "- As expected we do have some emojis in our text\n",
        "- We can decide to fine tune algorithms that can handle emojis"
      ]
    },
    {
      "cell_type": "code",
      "execution_count": null,
      "metadata": {
        "id": "TrNIFDpuv-Rb"
      },
      "outputs": [],
      "source": [
        "# Create a list of all the extracted emojis\n",
        "emojis_list = list(emojis)\n",
        "\n",
        "# Count the frequency of each emoji in the list\n",
        "emoji_dict = dict(collections.Counter(emojis_list))\n",
        "\n",
        "# Sort the dictionary in descending order of frequency\n",
        "emoji_dict = sorted(emoji_dict.items(), key=lambda x: x[1], reverse=True)\n",
        "\n",
        "# Convert the dictionary to a pandas DataFrame\n",
        "emoji_df = pd.DataFrame(emoji_dict, columns=['emoji', 'count'])\n",
        "\n",
        "# Display the top 20 most frequently used emojis\n",
        "print(emoji_df.head(10))"
      ]
    },
    {
      "cell_type": "markdown",
      "metadata": {
        "id": "0-WW2m3_yhH4"
      },
      "source": [
        "- The most frequently used emoji is 😂 with a count of 140. This emoji is commonly associated with laughter or amusement.\n",
        "\n",
        "- The second most frequently used emoji is 💉 with a count of 63. This emoji represents a syringe and is often used in the context of healthcare, vaccinations, or medical topics.\n",
        "\n",
        "- The third most frequently used emoji is 😷 with a count of 58. This emoji depicts a face wearing a medical mask and is commonly used to represent sickness, health precautions, or protection."
      ]
    },
    {
      "cell_type": "markdown",
      "metadata": {
        "id": "BqyB0h5dym1X"
      },
      "source": [
        "## Visualize the top 10 most use"
      ]
    },
    {
      "cell_type": "code",
      "execution_count": null,
      "metadata": {
        "id": "aVXkMhomv-VY"
      },
      "outputs": [],
      "source": [
        "# Group the emojis by category\n",
        "emoji_dict = collections.defaultdict(int)\n",
        "for emoji_char in emojis_list:\n",
        "    emoji_desc = emoji.demojize(emoji_char, delimiters=(\"\", \"\"))\n",
        "    emoji_desc_parts = emoji_desc.split(\"_\")\n",
        "    if len(emoji_desc_parts) > 1:\n",
        "        emoji_category = emoji_desc_parts[0]\n",
        "        emoji_dict[emoji_category] += 1\n",
        "\n",
        "# Convert the dictionary to a pandas DataFrame\n",
        "emoji_df = pd.DataFrame(emoji_dict.items(), columns=['category', 'count'])\n",
        "\n",
        "# Sort the DataFrame by frequency count in descending order\n",
        "emoji_df = emoji_df.sort_values(by='count', ascending=False)\n",
        "\n",
        "# Select the top 10 rows\n",
        "top_10_emojis = emoji_df.head(10)\n",
        "sns.set_style('dark')\n",
        "sns.barplot(x='count',y='category',data=emoji_df.head(10));"
      ]
    },
    {
      "cell_type": "markdown",
      "metadata": {
        "id": "uZIhhgNezAe3"
      },
      "source": [
        "## Distribution of Sentiment Labels"
      ]
    },
    {
      "cell_type": "code",
      "execution_count": null,
      "metadata": {
        "id": "a3RBLaFBv-aW"
      },
      "outputs": [],
      "source": [
        "# Calculate the frequency of each sentiment label\n",
        "label_counts = train_df['label'].value_counts()\n",
        "label_counts"
      ]
    },
    {
      "cell_type": "code",
      "execution_count": null,
      "metadata": {
        "id": "Vnja1ja4v-eD"
      },
      "outputs": [],
      "source": [
        "train_df['label'] = train_df['label'].astype('category')\n",
        "# Create a bar chart to visualize the distribution\n",
        "plt.figure(figsize=(8, 6))\n",
        "sns.barplot(x=train_df['label'].value_counts().index, y=train_df['label'].value_counts().values)\n",
        "plt.xlabel('Sentiment Label')\n",
        "plt.ylabel('Frequency')\n",
        "plt.title('Distribution of Sentiment Labels')\n",
        "plt.show()"
      ]
    },
    {
      "cell_type": "markdown",
      "metadata": {
        "id": "GG7yiAoJzcJo"
      },
      "source": [
        "**The labels are not perfectly balanced, as there is some variation in the frequencies. However, the difference between the frequencies of the labels is not extremely large, which suggests a relatively balanced distribution.**"
      ]
    },
    {
      "cell_type": "markdown",
      "metadata": {
        "id": "vhHlaXIgzj_N"
      },
      "source": [
        "## To perform text length analysis on the \"safe_text\" column"
      ]
    },
    {
      "cell_type": "code",
      "execution_count": null,
      "metadata": {
        "id": "1JB3FZ_Ov-ke"
      },
      "outputs": [],
      "source": [
        "# Calculate the length of each text in the \"safe_text\" column\n",
        "text_lengths = train_df['safe_text'].apply(len)\n",
        "\n",
        "# Compute descriptive statistics of text lengths\n",
        "text_length_stats = text_lengths.describe()\n",
        "\n",
        "# Print the descriptive statistics\n",
        "print(text_length_stats)"
      ]
    },
    {
      "cell_type": "markdown",
      "metadata": {
        "id": "zfz2IQppzuAW"
      },
      "source": [
        "## Visualize the distribution of text lengths using histograms or box plots."
      ]
    },
    {
      "cell_type": "code",
      "execution_count": null,
      "metadata": {
        "id": "iItIguNyv-og"
      },
      "outputs": [],
      "source": [
        "# Create a histogram to visualize the distribution of text lengths\n",
        "plt.figure(figsize=(8, 6))\n",
        "sns.histplot(text_lengths, kde=True)\n",
        "plt.xlabel('Text Length')\n",
        "plt.ylabel('Frequency')\n",
        "plt.title('Distribution of Text Lengths')\n",
        "plt.show()"
      ]
    },
    {
      "cell_type": "code",
      "execution_count": null,
      "metadata": {
        "id": "dshR4vaIv-uD"
      },
      "outputs": [],
      "source": [
        "# Create a box plot to visualize the distribution of text lengths\n",
        "plt.figure(figsize=(8, 6))\n",
        "sns.boxplot(text_lengths)\n",
        "plt.xlabel('Text Length')\n",
        "plt.title('Distribution of Text Lengths')\n",
        "plt.show()"
      ]
    },
    {
      "cell_type": "markdown",
      "metadata": {
        "id": "xk7ddJWQz71Y"
      },
      "source": [
        "## Perform agreement analysis on the data"
      ]
    },
    {
      "cell_type": "code",
      "execution_count": null,
      "metadata": {
        "id": "x3MhUkpVv-yd"
      },
      "outputs": [],
      "source": [
        "# Calculate descriptive statistics for the \"agreement\" column\n",
        "agreement_mean = train_df['agreement'].mean()\n",
        "agreement_median = train_df['agreement'].median()\n",
        "agreement_std = train_df['agreement'].std()\n",
        "\n",
        "# Print the results\n",
        "print(\"Agreement Mean:\", agreement_mean)\n",
        "print(\"Agreement Median:\", agreement_median)\n",
        "print(\"Agreement Standard Deviation:\", agreement_std)"
      ]
    },
    {
      "cell_type": "markdown",
      "metadata": {
        "id": "H1S--OCg0FRv"
      },
      "source": [
        "## Visualize the distribution of the \"agreement\" values using a histogram:"
      ]
    },
    {
      "cell_type": "code",
      "execution_count": null,
      "metadata": {
        "id": "Xqgp2Phnv-3c"
      },
      "outputs": [],
      "source": [
        "# Plot a histogram\n",
        "plt.figure(figsize=(8, 6))\n",
        "plt.hist(train_df['agreement'], bins=20, edgecolor='black')\n",
        "plt.xlabel('Agreement')\n",
        "plt.ylabel('Frequency')\n",
        "plt.title('Distribution of Agreement')\n",
        "plt.show()"
      ]
    },
    {
      "cell_type": "markdown",
      "metadata": {
        "id": "6cDsLWJW0Onk"
      },
      "source": [
        "## Visualize the distribution of the \"agreement\" values using  a box plot:"
      ]
    },
    {
      "cell_type": "code",
      "execution_count": null,
      "metadata": {
        "id": "0ng4UEZev-9L"
      },
      "outputs": [],
      "source": [
        "# Plot a box plot\n",
        "plt.figure(figsize=(6, 6))\n",
        "plt.boxplot(train_df['agreement'])\n",
        "plt.ylabel('Agreement')\n",
        "plt.title('Box Plot of Agreement')\n",
        "plt.show()"
      ]
    },
    {
      "cell_type": "markdown",
      "metadata": {
        "id": "_wyaFWd80X0y"
      },
      "source": [
        "Overall, the high mean and median agreement values, along with the low standard deviation, suggest a generally high level of consensus among annotators in the sentiment annotations. This is a positive indication for the reliability and consistency of the sentiment labels in the dataset."
      ]
    },
    {
      "cell_type": "markdown",
      "metadata": {
        "id": "pmLIN6ZX0kcl"
      },
      "source": [
        "## Counting the sentiment labels within each agreement level category"
      ]
    },
    {
      "cell_type": "code",
      "execution_count": null,
      "metadata": {
        "id": "1gsUNVj20nXB"
      },
      "outputs": [],
      "source": [
        "# Counting the sentiment labels within each agreement level category\n",
        "label_counts = train_df.groupby('agreement')['label'].value_counts()\n",
        "\n",
        "# Printing the label counts for each agreement level category\n",
        "for agreement, counts in label_counts.groupby(level=0):\n",
        "    print(f\"Agreement Level: {agreement}\")\n",
        "    print(counts)\n",
        "    print('\\n')"
      ]
    },
    {
      "cell_type": "markdown",
      "metadata": {
        "id": "QWwuJoVa0wf8"
      },
      "source": [
        "These results show the count of sentiment labels within each agreement level category. It appears that the majority of tweets with an agreement level of 0.6666666666666666 have both neutral and positive sentiment labels, while the agreement level of 1.0 has a higher count of neutral sentiment labels compared to negative and positive sentiments. On the other hand, the agreement level of 0.3333333333333333 primarily consists of negative sentiment labels."
      ]
    },
    {
      "cell_type": "markdown",
      "metadata": {
        "id": "jUcr6WcY03UU"
      },
      "source": [
        "## Visualize the distribution of sentiment labels based on the agreement level among annotators"
      ]
    },
    {
      "cell_type": "code",
      "execution_count": null,
      "metadata": {
        "id": "JqhlWzTR055X"
      },
      "outputs": [],
      "source": [
        "# Counting the sentiment labels within each agreement level category\n",
        "label_counts = train_df.groupby(['agreement', 'label']).size().unstack()\n",
        "\n",
        "# Plotting the distribution\n",
        "fig, ax = plt.subplots()\n",
        "agreement_levels = label_counts.index\n",
        "labels = label_counts.columns\n",
        "colors = ['red', 'blue', 'green']\n",
        "sentiment_labels = ['negative', 'neutral', 'positive']\n",
        "\n",
        "for i, sentiment_label in enumerate(labels):\n",
        "    counts = label_counts[sentiment_label].fillna(0)\n",
        "    ax.bar(agreement_levels, counts, label=f'{sentiment_labels[i]} ({sentiment_label})', color=colors[i])\n",
        "\n",
        "ax.set_xlabel('Agreement Level')\n",
        "ax.set_ylabel('Count')\n",
        "ax.legend(title='Sentiment Label')\n",
        "\n",
        "plt.title('Sentiment Distribution by Agreement Level')\n",
        "plt.tight_layout()\n",
        "plt.show()"
      ]
    },
    {
      "cell_type": "markdown",
      "metadata": {
        "id": "VsFLNOu11F1l"
      },
      "source": [
        "The plot shows the aggregates of the sentiment labels based on the agreement level using the groupby function and showing the distribution. Each sentiment label is represented by a different color, and the legend indicates the corresponding sentiment label."
      ]
    },
    {
      "cell_type": "markdown",
      "metadata": {
        "id": "j-7CeJTb1VY7"
      },
      "source": [
        "##  Analyze the association between the sentiment labels and multiple keywords \"measle\", \"measles\", \"vaccine\", \"vaccines\", \"vaccination\", and \"health\""
      ]
    },
    {
      "cell_type": "markdown",
      "metadata": {
        "id": "Y5YMJs4a1hoj"
      },
      "source": [
        "The code below adds two new columns, 'measles_combined' and 'vaccines_combined', to the train_df DataFrame, which contain the combined occurrences of 'measle' and 'measles', and 'vaccine' and 'vaccines', respectively. The keywords_updated list is also updated to include these combined columns. The keyword_frequencies DataFrame is then calculated based on the updated keywords."
      ]
    },
    {
      "cell_type": "code",
      "execution_count": null,
      "metadata": {
        "id": "8PU7xUr8059b"
      },
      "outputs": [],
      "source": [
        "# Create keyword columns\n",
        "keywords = ['measle', 'measles', 'vaccine', 'vaccines', 'vaccination', 'health']\n",
        "for keyword in keywords:\n",
        "    train_df[keyword] = train_df['safe_text'].str.contains(keyword, case=False).astype(int)\n",
        "\n",
        "# Combine occurrences of 'measle' and 'measles'\n",
        "train_df['measles_combined'] = train_df['measle'] + train_df['measles']\n",
        "\n",
        "# Combine occurrences of 'vaccine' and 'vaccines'\n",
        "train_df['vaccines_combined'] = train_df['vaccine'] + train_df['vaccines']\n",
        "\n",
        "# Update the keyword list\n",
        "keywords_updated = ['measles_combined', 'vaccines_combined', 'vaccination', 'health']\n",
        "\n",
        "# Group the data by sentiment label and calculate keyword frequencies\n",
        "keyword_frequencies = train_df.groupby('label')[keywords_updated].sum()\n",
        "\n",
        "# Print the keyword frequencies\n",
        "keyword_frequencies"
      ]
    },
    {
      "cell_type": "markdown",
      "metadata": {
        "id": "gTZ08vAL1uA-"
      },
      "source": [
        "## Keyword Frequencies by Sentiment Label\n",
        "\n",
        "The chart allows us to compare the distribution and relative frequencies of keywords across different sentiment categories."
      ]
    },
    {
      "cell_type": "code",
      "execution_count": null,
      "metadata": {
        "id": "Ob3Ztj6q06B4"
      },
      "outputs": [],
      "source": [
        "# Set the labels for the sentiment labels\n",
        "sentiment_labels = ['negative', 'neutral', 'positive']\n",
        "\n",
        "# Plot the stacked bar chart\n",
        "keyword_frequencies.plot(kind='bar', stacked=True, figsize=(10, 6))\n",
        "\n",
        "# Set the labels and title\n",
        "plt.xlabel('Sentiment Label')\n",
        "plt.ylabel('Frequency')\n",
        "plt.title('Keyword Frequencies by Sentiment Label')\n",
        "\n",
        "# Show the legend\n",
        "plt.legend(title='Keywords')\n",
        "\n",
        "# Set the x-axis tick labels as the sentiment labels\n",
        "plt.xticks(range(len(sentiment_labels)), sentiment_labels)\n",
        "\n",
        "# Show the plot\n",
        "plt.show()"
      ]
    },
    {
      "cell_type": "markdown",
      "metadata": {
        "id": "thb0yaop2HT1"
      },
      "source": [
        "From the plot, we cann summarize that:\n",
        "- The words \"measle(s)\" are used most (over 4500 times) in the **neutral** sentiment label followed 2nd by \"vaccine(s)\" and 3rd by word \"health\".\n",
        "- The words \"vaccine(s)\" are used most (about 2000 times) in the **positive** sentiment label followed 2nd by \"measle(s)\" and 3rd by word \"vacciation\".\n",
        "- The words \"vaccine(s)\" are used most (about 1000 times) in the **negative** sentiment label followed 2nd by \"measle(s)\" and 3rd by word \"vacciation\"."
      ]
    },
    {
      "cell_type": "markdown",
      "metadata": {
        "id": "gHkEVde-2TrI"
      },
      "source": [
        "## Revert to original Dataset"
      ]
    },
    {
      "cell_type": "code",
      "execution_count": null,
      "metadata": {
        "id": "9iH2Z7H13AKc"
      },
      "outputs": [],
      "source": [
        "train_df.drop(train_df.columns.difference(['tweet_id', 'safe_text', 'label', 'agreement']), axis=1, inplace=True)"
      ]
    },
    {
      "cell_type": "markdown",
      "metadata": {
        "id": "t3HCLHMlzY2R"
      },
      "source": [
        "AS Noticed in EDA we will drop the rows with missing values"
      ]
    },
    {
      "cell_type": "code",
      "execution_count": null,
      "metadata": {
        "id": "I3tbnEOqzY2R"
      },
      "outputs": [],
      "source": [
        "#Drop null rows\n",
        "train_df.dropna(axis=0,inplace=True)\n",
        "\n",
        "#check for the presence of null values again\n",
        "train_df.isna().sum()\n"
      ]
    },
    {
      "cell_type": "markdown",
      "metadata": {
        "id": "bYnsyJJfzY2S"
      },
      "source": [
        "Split the Train the dataset into training(for learning ) and evaluation(For computing metrics to capture overfitting) sets"
      ]
    },
    {
      "cell_type": "code",
      "execution_count": null,
      "metadata": {
        "id": "cjf2ZGe5zY2S"
      },
      "outputs": [],
      "source": [
        "train , eval = train_test_split(train_df,train_size=0.8,stratify=train_df['label'])"
      ]
    },
    {
      "cell_type": "markdown",
      "metadata": {
        "id": "JO0_HTadzY2T"
      },
      "source": [
        "check train data"
      ]
    },
    {
      "cell_type": "code",
      "execution_count": null,
      "metadata": {
        "id": "GGkus-S2zY2T"
      },
      "outputs": [],
      "source": [
        "train.head()"
      ]
    },
    {
      "cell_type": "markdown",
      "metadata": {
        "id": "tLrcIn_BzY2T"
      },
      "source": [
        "Check eval"
      ]
    },
    {
      "cell_type": "code",
      "execution_count": null,
      "metadata": {
        "id": "72hYvLT1zY2U"
      },
      "outputs": [],
      "source": [
        "eval.head()"
      ]
    },
    {
      "cell_type": "markdown",
      "metadata": {
        "id": "wb_Fp405zY2U"
      },
      "source": [
        "Check the shapes of both dataset"
      ]
    },
    {
      "cell_type": "code",
      "execution_count": null,
      "metadata": {
        "id": "0Gi-ZaDIzY2U"
      },
      "outputs": [],
      "source": [
        "print(f'Shape of training set: {train.shape}\\nShape of evaluation set: {eval.shape}')"
      ]
    },
    {
      "cell_type": "markdown",
      "metadata": {
        "id": "XlfY5s00zY2V"
      },
      "source": [
        "Save the splitted data to be loaded as huggingface dataset"
      ]
    },
    {
      "cell_type": "code",
      "execution_count": null,
      "metadata": {
        "id": "fIW5t8QPzY2V"
      },
      "outputs": [],
      "source": [
        "# Save splitted subsets\n",
        "train.to_csv(\"/content/drive/MyDrive/Sentimental Analysis/train_subset.csv\", index=False)\n",
        "eval.to_csv(\"/content/drive/MyDrive/Sentimental Analysis/eval_subset.csv\", index=False)"
      ]
    },
    {
      "cell_type": "code",
      "execution_count": null,
      "metadata": {
        "id": "-H1BxpUjzY2V"
      },
      "outputs": [],
      "source": [
        "datasets = load_dataset('csv',\n",
        "                        data_files={'train':'/content/drive/MyDrive/Sentimental Analysis/train_subset.csv',\n",
        "                        'eval':'/content/drive/MyDrive/Sentimental Analysis/eval_subset.csv'}, encoding = \"ISO-8859-1\")"
      ]
    },
    {
      "cell_type": "markdown",
      "metadata": {
        "id": "uYvuUeoVzY2W"
      },
      "source": [
        "## Creating a Tokenizer instance\n",
        "\n",
        "- The line of code below initializes a tokenizer for the \"tweet_sentiments_analysis_roberta\" model using the transformers library. The tokenizer is an essential component for processing text data and is used to convert input text into tokens that can be fed into the model for sentiment analysis."
      ]
    },
    {
      "cell_type": "code",
      "execution_count": null,
      "metadata": {
        "id": "31-ZU-k6zY2W"
      },
      "outputs": [],
      "source": [
        "#Create a tokenizer instance\n",
        "tokenizer=AutoTokenizer.from_pretrained('roberta-base')"
      ]
    },
    {
      "cell_type": "markdown",
      "metadata": {
        "id": "ieU-DPeYMqf9"
      },
      "source": [
        "## Functions to tokenize text and transform labels\n",
        "\n",
        "The code below defines two functions: tokenize_data and transfom_label, both of which are used to preprocess data before feeding it into a model for sentiment analysis.\n",
        "\n",
        "1. tokenize_data(data):\n",
        "\n",
        "  - This function takes a data dictionary as input, which contains a key 'safe_text' representing the raw text to be tokenized.\n",
        "  - It uses the tokenizer object (previously defined in the code) to tokenize the text data.\n",
        "  - The padding='max_length' parameter specifies that the tokenized sequences should be padded to the maximum length of the input data to ensure uniformity for model processing.\n",
        "  - The function then returns the tokenized data.\n",
        "\n",
        "2. transfom_label(data):\n",
        "\n",
        "  - This function takes a data dictionary as input, which contains a key 'label' representing the sentiment label (e.g., -1 for Negative, 0 for Neutral, 1 for Positive).\n",
        "  - It maps the numerical sentiment labels to a unified label format suitable for model training and inference.\n",
        "  - The function first extracts the 'label' value from the input data.\n",
        "  - It then checks the value of 'label' and maps it to a numerical label representation (0 for Negative, 1 for Neutral, 2 for Positive).\n",
        "  - The function returns a new dictionary containing the transformed 'labels' with the numerical representation.\n",
        "\n",
        "*These functions play a crucial role in the data preprocessing pipeline before training the sentiment analysis model. The tokenize_data function converts the raw text data into tokenized sequences suitable for the model, while the transfom_label function converts the original sentiment labels into numerical representations that the model can understand during training and evaluation.*"
      ]
    },
    {
      "cell_type": "code",
      "execution_count": null,
      "metadata": {
        "id": "tm2w-Z3JzY2W"
      },
      "outputs": [],
      "source": [
        "#function to tokenize text\n",
        "def tokenize_data(data):\n",
        "    return tokenizer(data['safe_text'],padding='max_length')\n",
        "\n",
        "\n",
        "#function to transform labels\n",
        "def transfom_label(data):\n",
        "\n",
        "    #extract label\n",
        "    label=data['label']\n",
        "    num=0\n",
        "    #create contitions\n",
        "    if label==-1: #Negative\n",
        "        num=0\n",
        "    elif label==0: #Neutral\n",
        "        num=1\n",
        "    else:\n",
        "        num=2      #Positive\n",
        "    return {'labels':num}"
      ]
    },
    {
      "cell_type": "markdown",
      "metadata": {
        "id": "c9AU482izY2X"
      },
      "source": [
        "## Tokenizer text and trasform original sentiment labels\n",
        "\n",
        "The code below is part of a data preprocessing pipeline using the datasets module. The pipeline prepares the dataset for sentiment analysis using tokenization and label transformation. The dataset has the columns named 'tweet_id', 'label', 'safe_text', and 'agreement'.\n",
        "\n",
        "1. remove_columns:\n",
        "\n",
        "  - This is a list of column names that will be removed from the dataset after tokenization and label transformation. These columns are  not needed for model training and can be discarded.\n",
        "2. datasets.map(tokenize_data, batched=True):\n",
        "\n",
        "  - This line applies the tokenize_data function (previously defined in the code) to the dataset in a batched manner.\n",
        "  - The tokenize_data function tokenizes the 'safe_text' column in the dataset, converting the raw text into tokenized sequences. The batched=True parameter indicates that the tokenization should be applied in batches to optimize efficiency.\n",
        "3. datasets.map(transfom_label, remove_columns=remove_columns):\n",
        "\n",
        "  - This line applies the transfom_label function (previously defined in the code) to the dataset.\n",
        "  - The transfom_label function transforms the original sentiment labels in the 'label' column to numerical representations (0 for Negative, 1 for Neutral, 2 for Positive).\n",
        "  - The remove_columns=remove_columns parameter ensures that the specified columns ('tweet_id', 'label', 'safe_text', 'agreement') are removed from the dataset after transformation, leaving only the tokenized text data and the numerical sentiment labels."
      ]
    },
    {
      "cell_type": "code",
      "execution_count": null,
      "metadata": {
        "id": "MXPfdPAAzY2X"
      },
      "outputs": [],
      "source": [
        "#The following columns will be removed after tokenization\n",
        "remove_columns = ['tweet_id', 'label', 'safe_text', 'agreement']\n",
        "\n",
        "#Tokenize the text data\n",
        "datasets=datasets.map(tokenize_data,batched=True)\n",
        "\n",
        "#transform the labels\n",
        "datasets=datasets.map(transfom_label,remove_columns=remove_columns)"
      ]
    },
    {
      "cell_type": "markdown",
      "metadata": {
        "id": "7x4rSNW5zY2Y"
      },
      "source": [
        "## Extract the train and eval datasets from datasets\n",
        "The code below does the following:\n",
        "\n",
        "1. train_dataset = datasets['train'].shuffle(seed=0):\n",
        "\n",
        "  - This line creates the training dataset by extracting the 'train' subset from the datasets variable using the key 'train'.\n",
        "  - he shuffle(seed=0) function is applied to the 'train' subset. This function randomly shuffles the examples in the training dataset to ensure that the order of examples seen during training is randomized, which can lead to better generalization. The seed=0 parameter sets the random seed for reproducibility.\n",
        "2. eval_dataset = datasets['eval'].shuffle(seed=0):\n",
        "\n",
        "  - This line creates the evaluation dataset in a similar way to the training dataset.\n",
        "  - The 'eval' subset is extracted from the datasets variable, and the shuffle() function is applied with the same random seed as in the previous line (seed=0)."
      ]
    },
    {
      "cell_type": "code",
      "execution_count": null,
      "metadata": {
        "id": "KL_suundzY2Y"
      },
      "outputs": [],
      "source": [
        "#extract train datasets\n",
        "train_dataset=datasets['train'].shuffle(seed=0)\n",
        "#extract eval datasets\n",
        "eval_dataset=datasets['eval'].shuffle(seed=0)"
      ]
    },
    {
      "cell_type": "markdown",
      "metadata": {
        "id": "mkEeo-W0P5pI"
      },
      "source": [
        "## Define Metrics Function\n",
        "\n",
        "The function below does the following:\n",
        "\n",
        "1. def compute_metrics(eval_preds)::\n",
        "\n",
        "  - This is the definition of a Python function named compute_metrics.\n",
        "  - The function takes a single argument eval_preds, which is expected to be a tuple containing two arrays: logits and labels. These arrays are the predictions made by the model (logits) and the corresponding true labels (labels) for a batch of examples during evaluation.\n",
        "2. logits, labels = eval_preds:\n",
        "\n",
        "  - This line unpacks the tuple eval_preds into two separate arrays logits and labels, representing the model's predictions and the true labels for a batch of examples, respectively.\n",
        "3. predictions = np.argmax(logits, axis=-1):\n",
        "\n",
        "  - This line calculates the predicted class for each example in the batch by taking the index of the maximum value in the logits array along the last axis (axis=-1).\n",
        "  - The logits array contains raw model outputs for each class, and np.argmax() finds the index of the class with the highest probability for each example.\n",
        "4. f1 = f1_score(labels, predictions, average='weighted'):\n",
        "\n",
        "  - This line computes the weighted F1 score for the batch of examples.\n",
        "  - The f1_score() function from the sklearn.metrics module is used for this calculation.\n",
        "  - It takes the true labels labels and the predicted labels predictions as inputs and computes the F1 score.\n",
        "  - The average='weighted' parameter specifies that the F1 score should be weighted by the number of samples in each class, which accounts for class imbalance.\n",
        "5. return {\"f1-score\": f1}:\n",
        "\n",
        "  - Finally, the function returns a dictionary containing the computed F1 score, with the key \"f1-score\" and the corresponding value f1"
      ]
    },
    {
      "cell_type": "code",
      "execution_count": null,
      "metadata": {
        "id": "LNZX7nzSPuC_"
      },
      "outputs": [],
      "source": [
        "# Define the function to compute F1-score\n",
        "def compute_metrics(eval_preds):\n",
        "    logits, labels = eval_preds\n",
        "    predictions = np.argmax(logits, axis=-1)\n",
        "    f1 = f1_score(labels, predictions, average='weighted')\n",
        "    return {\"f1-score\": f1}"
      ]
    },
    {
      "cell_type": "markdown",
      "metadata": {
        "id": "P8aPioQMDOcz"
      },
      "source": [
        "## Three models shall be trained in turns as follows:\n",
        "1. 'bert-base-cased' and be named as: 'tweet_sentiments_analysis_bert'\n",
        "2. 'distilbert-base-cased' and be named as: 'tweet_sentiments_analysis_distilbert'\n",
        "3. 'roberta-base' and be named as: 'tweet_sentiments_analysis_roberta'"
      ]
    },
    {
      "cell_type": "markdown",
      "metadata": {
        "id": "xI4HYL4bRTPq"
      },
      "source": [
        "## Set the training argumets\n",
        "\n",
        "In summary, the TrainingArguments object is used to define various training configurations and hyperparameters, such as the number of training epochs, evaluation and saving strategies, and whether to push the model to the Hugging Face Model Hub after training. This object is then passed to the Trainer class for model training using the specified settings."
      ]
    },
    {
      "cell_type": "code",
      "execution_count": null,
      "metadata": {
        "id": "ERzR_UouRisN"
      },
      "outputs": [],
      "source": [
        "#set the training arguments\n",
        "trainargs=TrainingArguments('tweet_sentiments_analysis_roberta',\n",
        "                            num_train_epochs=5,\n",
        "                            evaluation_strategy=\"epoch\",\n",
        "                            save_strategy='epoch',\n",
        "                            load_best_model_at_end=True,\n",
        "                            push_to_hub=True)"
      ]
    },
    {
      "cell_type": "markdown",
      "metadata": {
        "id": "KeKfu_dFQCcS"
      },
      "source": [
        "## Create an instance of the Model\n",
        "\n",
        "The code below creates a pre-trained <name of model> sequence classification model with three output labels and initializes it with the pre-trained weights from the <name of model> model. This model can be fine-tuned for a specific classification task, such as sentiment analysis, with the appropriate training data."
      ]
    },
    {
      "cell_type": "code",
      "execution_count": null,
      "metadata": {
        "id": "1U_PjnflPuHK"
      },
      "outputs": [],
      "source": [
        "# Create an instance of the BERT model\n",
        "model_name = 'roberta-base'\n",
        "num_labels = 3\n",
        "model = AutoModelForSequenceClassification.from_pretrained(model_name, num_labels=num_labels)"
      ]
    },
    {
      "cell_type": "markdown",
      "metadata": {
        "id": "0GEHfbUBQYOQ"
      },
      "source": [
        "## Create trainer instance\n",
        "\n",
        "The code below creates a Trainer instance with the necessary components, including the model, training and evaluation datasets, tokenizer, and a function for computing evaluation metrics. The Trainer instance can be used to train and evaluate the pre-trained sequence classification model on the specified datasets using the defined training arguments."
      ]
    },
    {
      "cell_type": "code",
      "execution_count": null,
      "metadata": {
        "id": "iwcDMF7wPuMQ"
      },
      "outputs": [],
      "source": [
        "# Create a Trainer instance\n",
        "trainer = Trainer(\n",
        "    model=model,\n",
        "    args=trainargs,\n",
        "    train_dataset=train_dataset,\n",
        "    eval_dataset=eval_dataset,\n",
        "    tokenizer=tokenizer,\n",
        "    compute_metrics=compute_metrics,\n",
        "    )"
      ]
    },
    {
      "cell_type": "markdown",
      "metadata": {
        "id": "lPE3zBLjQ0wx"
      },
      "source": [
        "## Start training\n",
        "\n",
        "The code below trainer.train() is used to initiate the training process of the pre-trained sequence classification model using the specified training dataset and training arguments. When this code is executed, the model will start training for the specified number of epochs (defined in the training arguments) on the provided training dataset."
      ]
    },
    {
      "cell_type": "code",
      "execution_count": null,
      "metadata": {
        "colab": {
          "base_uri": "https://localhost:8080/",
          "height": 206
        },
        "id": "lc923Z7BPuQw",
        "outputId": "a799ba55-b8fc-4ce4-c3a9-2370b2b93164"
      },
      "outputs": [
        {
          "metadata": {
            "tags": null
          },
          "name": "stderr",
          "output_type": "stream",
          "text": [
            "/usr/local/lib/python3.10/dist-packages/transformers/optimization.py:411: FutureWarning: This implementation of AdamW is deprecated and will be removed in a future version. Use the PyTorch implementation torch.optim.AdamW instead, or set `no_deprecation_warning=True` to disable this warning\n",
            "  warnings.warn(\n",
            "You're using a RobertaTokenizerFast tokenizer. Please note that with a fast tokenizer, using the `__call__` method is faster than using a method to encode the text followed by a call to the `pad` method to get a padded encoding.\n"
          ]
        },
        {
          "data": {
            "text/html": [
              "\n",
              "    <div>\n",
              "      \n",
              "      <progress value='203' max='5000' style='width:300px; height:20px; vertical-align: middle;'></progress>\n",
              "      [ 203/5000 02:23 < 56:56, 1.40 it/s, Epoch 0.20/5]\n",
              "    </div>\n",
              "    <table border=\"1\" class=\"dataframe\">\n",
              "  <thead>\n",
              " <tr style=\"text-align: left;\">\n",
              "      <th>Epoch</th>\n",
              "      <th>Training Loss</th>\n",
              "      <th>Validation Loss</th>\n",
              "    </tr>\n",
              "  </thead>\n",
              "  <tbody>\n",
              "  </tbody>\n",
              "</table><p>"
            ],
            "text/plain": [
              "<IPython.core.display.HTML object>"
            ]
          },
          "metadata": {},
          "output_type": "display_data"
        },
        {
          "output_type": "display_data",
          "data": {
            "text/plain": [
              "<IPython.core.display.HTML object>"
            ],
            "text/html": [
              "\n",
              "    <div>\n",
              "      \n",
              "      <progress value='229' max='5000' style='width:300px; height:20px; vertical-align: middle;'></progress>\n",
              "      [ 229/5000 02:41 < 56:44, 1.40 it/s, Epoch 0.23/5]\n",
              "    </div>\n",
              "    <table border=\"1\" class=\"dataframe\">\n",
              "  <thead>\n",
              " <tr style=\"text-align: left;\">\n",
              "      <th>Epoch</th>\n",
              "      <th>Training Loss</th>\n",
              "      <th>Validation Loss</th>\n",
              "    </tr>\n",
              "  </thead>\n",
              "  <tbody>\n",
              "  </tbody>\n",
              "</table><p>"
            ]
          },
          "metadata": {}
        }
      ],
      "source": [
        "trainer.train()"
      ]
    },
    {
      "cell_type": "markdown",
      "metadata": {
        "id": "micfvSHIUed7"
      },
      "source": [
        "## Evaluate model"
      ]
    },
    {
      "cell_type": "code",
      "execution_count": null,
      "metadata": {
        "id": "aJlDGTbxPuVZ"
      },
      "outputs": [],
      "source": [
        "# Evaluate the model\n",
        "results = trainer.evaluate()\n",
        "print(\"BERT model:\")\n",
        "print(\"Evaluation results:\", results)"
      ]
    },
    {
      "cell_type": "markdown",
      "metadata": {
        "id": "KMz5I2xcUpH5"
      },
      "source": [
        "## Push model to huggingface"
      ]
    },
    {
      "cell_type": "code",
      "execution_count": null,
      "metadata": {
        "id": "jxHHWoGOPuZ5"
      },
      "outputs": [],
      "source": [
        "trainer.push_to_hub()"
      ]
    }
  ],
  "metadata": {
    "accelerator": "GPU",
    "colab": {
      "provenance": []
    },
    "kernelspec": {
      "display_name": "Python 3",
      "name": "python3"
    },
    "language_info": {
      "codemirror_mode": {
        "name": "ipython",
        "version": 3
      },
      "file_extension": ".py",
      "mimetype": "text/x-python",
      "name": "python",
      "nbconvert_exporter": "python",
      "pygments_lexer": "ipython3",
      "version": "3.9.7"
    },
    "widgets": {
      "application/vnd.jupyter.widget-state+json": {
        "ac00f532b7e240ba82f99c1f1f962f29": {
          "model_module": "@jupyter-widgets/controls",
          "model_name": "VBoxModel",
          "model_module_version": "1.5.0",
          "state": {
            "_dom_classes": [],
            "_model_module": "@jupyter-widgets/controls",
            "_model_module_version": "1.5.0",
            "_model_name": "VBoxModel",
            "_view_count": null,
            "_view_module": "@jupyter-widgets/controls",
            "_view_module_version": "1.5.0",
            "_view_name": "VBoxView",
            "box_style": "",
            "children": [
              "IPY_MODEL_864e02747390402e8326932d8aa10e8c",
              "IPY_MODEL_f9dd86b4d49f4814840701f1aa28d29f",
              "IPY_MODEL_8f59b7250a92401097726cdfe078e16d"
            ],
            "layout": "IPY_MODEL_31bba73e95da4b37af9cfb36a4d4f947"
          }
        },
        "59b5ba127170427ab9ed4d2c94fa0207": {
          "model_module": "@jupyter-widgets/controls",
          "model_name": "HTMLModel",
          "model_module_version": "1.5.0",
          "state": {
            "_dom_classes": [],
            "_model_module": "@jupyter-widgets/controls",
            "_model_module_version": "1.5.0",
            "_model_name": "HTMLModel",
            "_view_count": null,
            "_view_module": "@jupyter-widgets/controls",
            "_view_module_version": "1.5.0",
            "_view_name": "HTMLView",
            "description": "",
            "description_tooltip": null,
            "layout": "IPY_MODEL_09d8e142ed9e494894b13fdc6a8afde9",
            "placeholder": "​",
            "style": "IPY_MODEL_df27c98112ed4d48881ed196c11244a6",
            "value": "<center> <img\nsrc=https://huggingface.co/front/assets/huggingface_logo-noborder.svg\nalt='Hugging Face'> <br> Copy a token from <a\nhref=\"https://huggingface.co/settings/tokens\" target=\"_blank\">your Hugging Face\ntokens page</a> and paste it below. <br> Immediately click login after copying\nyour token or it might be stored in plain text in this notebook file. </center>"
          }
        },
        "087c3316a4c44bde89d0180b650ff0e5": {
          "model_module": "@jupyter-widgets/controls",
          "model_name": "PasswordModel",
          "model_module_version": "1.5.0",
          "state": {
            "_dom_classes": [],
            "_model_module": "@jupyter-widgets/controls",
            "_model_module_version": "1.5.0",
            "_model_name": "PasswordModel",
            "_view_count": null,
            "_view_module": "@jupyter-widgets/controls",
            "_view_module_version": "1.5.0",
            "_view_name": "PasswordView",
            "continuous_update": true,
            "description": "Token:",
            "description_tooltip": null,
            "disabled": false,
            "layout": "IPY_MODEL_db9e67cada954a5aa7c2e45ac1913f84",
            "placeholder": "​",
            "style": "IPY_MODEL_bc0b9e5b1c364f25bf7e818571e34fae",
            "value": ""
          }
        },
        "e5f7d06593b64926884352bb16ee0249": {
          "model_module": "@jupyter-widgets/controls",
          "model_name": "CheckboxModel",
          "model_module_version": "1.5.0",
          "state": {
            "_dom_classes": [],
            "_model_module": "@jupyter-widgets/controls",
            "_model_module_version": "1.5.0",
            "_model_name": "CheckboxModel",
            "_view_count": null,
            "_view_module": "@jupyter-widgets/controls",
            "_view_module_version": "1.5.0",
            "_view_name": "CheckboxView",
            "description": "Add token as git credential?",
            "description_tooltip": null,
            "disabled": false,
            "indent": true,
            "layout": "IPY_MODEL_c4698d37dc99422d91329c5ec3846973",
            "style": "IPY_MODEL_304efceca5514f06b7f0bd2bf54cff2e",
            "value": false
          }
        },
        "8a3c5a550bd74a149284782e9f8c27ec": {
          "model_module": "@jupyter-widgets/controls",
          "model_name": "ButtonModel",
          "model_module_version": "1.5.0",
          "state": {
            "_dom_classes": [],
            "_model_module": "@jupyter-widgets/controls",
            "_model_module_version": "1.5.0",
            "_model_name": "ButtonModel",
            "_view_count": null,
            "_view_module": "@jupyter-widgets/controls",
            "_view_module_version": "1.5.0",
            "_view_name": "ButtonView",
            "button_style": "",
            "description": "Login",
            "disabled": false,
            "icon": "",
            "layout": "IPY_MODEL_e2fd3c748b9c45e1a95867b3313caf4f",
            "style": "IPY_MODEL_db3ae6323cb84ec9861b59b56fb2ae00",
            "tooltip": ""
          }
        },
        "a6395786a6b9413dbd6f34b2f6a5a24b": {
          "model_module": "@jupyter-widgets/controls",
          "model_name": "HTMLModel",
          "model_module_version": "1.5.0",
          "state": {
            "_dom_classes": [],
            "_model_module": "@jupyter-widgets/controls",
            "_model_module_version": "1.5.0",
            "_model_name": "HTMLModel",
            "_view_count": null,
            "_view_module": "@jupyter-widgets/controls",
            "_view_module_version": "1.5.0",
            "_view_name": "HTMLView",
            "description": "",
            "description_tooltip": null,
            "layout": "IPY_MODEL_df3fedce007a47ea9cd74d4814f38b09",
            "placeholder": "​",
            "style": "IPY_MODEL_2a0e6280c0b044e984d2182684166d67",
            "value": "\n<b>Pro Tip:</b> If you don't already have one, you can create a dedicated\n'notebooks' token with 'write' access, that you can then easily reuse for all\nnotebooks. </center>"
          }
        },
        "31bba73e95da4b37af9cfb36a4d4f947": {
          "model_module": "@jupyter-widgets/base",
          "model_name": "LayoutModel",
          "model_module_version": "1.2.0",
          "state": {
            "_model_module": "@jupyter-widgets/base",
            "_model_module_version": "1.2.0",
            "_model_name": "LayoutModel",
            "_view_count": null,
            "_view_module": "@jupyter-widgets/base",
            "_view_module_version": "1.2.0",
            "_view_name": "LayoutView",
            "align_content": null,
            "align_items": "center",
            "align_self": null,
            "border": null,
            "bottom": null,
            "display": "flex",
            "flex": null,
            "flex_flow": "column",
            "grid_area": null,
            "grid_auto_columns": null,
            "grid_auto_flow": null,
            "grid_auto_rows": null,
            "grid_column": null,
            "grid_gap": null,
            "grid_row": null,
            "grid_template_areas": null,
            "grid_template_columns": null,
            "grid_template_rows": null,
            "height": null,
            "justify_content": null,
            "justify_items": null,
            "left": null,
            "margin": null,
            "max_height": null,
            "max_width": null,
            "min_height": null,
            "min_width": null,
            "object_fit": null,
            "object_position": null,
            "order": null,
            "overflow": null,
            "overflow_x": null,
            "overflow_y": null,
            "padding": null,
            "right": null,
            "top": null,
            "visibility": null,
            "width": "50%"
          }
        },
        "09d8e142ed9e494894b13fdc6a8afde9": {
          "model_module": "@jupyter-widgets/base",
          "model_name": "LayoutModel",
          "model_module_version": "1.2.0",
          "state": {
            "_model_module": "@jupyter-widgets/base",
            "_model_module_version": "1.2.0",
            "_model_name": "LayoutModel",
            "_view_count": null,
            "_view_module": "@jupyter-widgets/base",
            "_view_module_version": "1.2.0",
            "_view_name": "LayoutView",
            "align_content": null,
            "align_items": null,
            "align_self": null,
            "border": null,
            "bottom": null,
            "display": null,
            "flex": null,
            "flex_flow": null,
            "grid_area": null,
            "grid_auto_columns": null,
            "grid_auto_flow": null,
            "grid_auto_rows": null,
            "grid_column": null,
            "grid_gap": null,
            "grid_row": null,
            "grid_template_areas": null,
            "grid_template_columns": null,
            "grid_template_rows": null,
            "height": null,
            "justify_content": null,
            "justify_items": null,
            "left": null,
            "margin": null,
            "max_height": null,
            "max_width": null,
            "min_height": null,
            "min_width": null,
            "object_fit": null,
            "object_position": null,
            "order": null,
            "overflow": null,
            "overflow_x": null,
            "overflow_y": null,
            "padding": null,
            "right": null,
            "top": null,
            "visibility": null,
            "width": null
          }
        },
        "df27c98112ed4d48881ed196c11244a6": {
          "model_module": "@jupyter-widgets/controls",
          "model_name": "DescriptionStyleModel",
          "model_module_version": "1.5.0",
          "state": {
            "_model_module": "@jupyter-widgets/controls",
            "_model_module_version": "1.5.0",
            "_model_name": "DescriptionStyleModel",
            "_view_count": null,
            "_view_module": "@jupyter-widgets/base",
            "_view_module_version": "1.2.0",
            "_view_name": "StyleView",
            "description_width": ""
          }
        },
        "db9e67cada954a5aa7c2e45ac1913f84": {
          "model_module": "@jupyter-widgets/base",
          "model_name": "LayoutModel",
          "model_module_version": "1.2.0",
          "state": {
            "_model_module": "@jupyter-widgets/base",
            "_model_module_version": "1.2.0",
            "_model_name": "LayoutModel",
            "_view_count": null,
            "_view_module": "@jupyter-widgets/base",
            "_view_module_version": "1.2.0",
            "_view_name": "LayoutView",
            "align_content": null,
            "align_items": null,
            "align_self": null,
            "border": null,
            "bottom": null,
            "display": null,
            "flex": null,
            "flex_flow": null,
            "grid_area": null,
            "grid_auto_columns": null,
            "grid_auto_flow": null,
            "grid_auto_rows": null,
            "grid_column": null,
            "grid_gap": null,
            "grid_row": null,
            "grid_template_areas": null,
            "grid_template_columns": null,
            "grid_template_rows": null,
            "height": null,
            "justify_content": null,
            "justify_items": null,
            "left": null,
            "margin": null,
            "max_height": null,
            "max_width": null,
            "min_height": null,
            "min_width": null,
            "object_fit": null,
            "object_position": null,
            "order": null,
            "overflow": null,
            "overflow_x": null,
            "overflow_y": null,
            "padding": null,
            "right": null,
            "top": null,
            "visibility": null,
            "width": null
          }
        },
        "bc0b9e5b1c364f25bf7e818571e34fae": {
          "model_module": "@jupyter-widgets/controls",
          "model_name": "DescriptionStyleModel",
          "model_module_version": "1.5.0",
          "state": {
            "_model_module": "@jupyter-widgets/controls",
            "_model_module_version": "1.5.0",
            "_model_name": "DescriptionStyleModel",
            "_view_count": null,
            "_view_module": "@jupyter-widgets/base",
            "_view_module_version": "1.2.0",
            "_view_name": "StyleView",
            "description_width": ""
          }
        },
        "c4698d37dc99422d91329c5ec3846973": {
          "model_module": "@jupyter-widgets/base",
          "model_name": "LayoutModel",
          "model_module_version": "1.2.0",
          "state": {
            "_model_module": "@jupyter-widgets/base",
            "_model_module_version": "1.2.0",
            "_model_name": "LayoutModel",
            "_view_count": null,
            "_view_module": "@jupyter-widgets/base",
            "_view_module_version": "1.2.0",
            "_view_name": "LayoutView",
            "align_content": null,
            "align_items": null,
            "align_self": null,
            "border": null,
            "bottom": null,
            "display": null,
            "flex": null,
            "flex_flow": null,
            "grid_area": null,
            "grid_auto_columns": null,
            "grid_auto_flow": null,
            "grid_auto_rows": null,
            "grid_column": null,
            "grid_gap": null,
            "grid_row": null,
            "grid_template_areas": null,
            "grid_template_columns": null,
            "grid_template_rows": null,
            "height": null,
            "justify_content": null,
            "justify_items": null,
            "left": null,
            "margin": null,
            "max_height": null,
            "max_width": null,
            "min_height": null,
            "min_width": null,
            "object_fit": null,
            "object_position": null,
            "order": null,
            "overflow": null,
            "overflow_x": null,
            "overflow_y": null,
            "padding": null,
            "right": null,
            "top": null,
            "visibility": null,
            "width": null
          }
        },
        "304efceca5514f06b7f0bd2bf54cff2e": {
          "model_module": "@jupyter-widgets/controls",
          "model_name": "DescriptionStyleModel",
          "model_module_version": "1.5.0",
          "state": {
            "_model_module": "@jupyter-widgets/controls",
            "_model_module_version": "1.5.0",
            "_model_name": "DescriptionStyleModel",
            "_view_count": null,
            "_view_module": "@jupyter-widgets/base",
            "_view_module_version": "1.2.0",
            "_view_name": "StyleView",
            "description_width": ""
          }
        },
        "e2fd3c748b9c45e1a95867b3313caf4f": {
          "model_module": "@jupyter-widgets/base",
          "model_name": "LayoutModel",
          "model_module_version": "1.2.0",
          "state": {
            "_model_module": "@jupyter-widgets/base",
            "_model_module_version": "1.2.0",
            "_model_name": "LayoutModel",
            "_view_count": null,
            "_view_module": "@jupyter-widgets/base",
            "_view_module_version": "1.2.0",
            "_view_name": "LayoutView",
            "align_content": null,
            "align_items": null,
            "align_self": null,
            "border": null,
            "bottom": null,
            "display": null,
            "flex": null,
            "flex_flow": null,
            "grid_area": null,
            "grid_auto_columns": null,
            "grid_auto_flow": null,
            "grid_auto_rows": null,
            "grid_column": null,
            "grid_gap": null,
            "grid_row": null,
            "grid_template_areas": null,
            "grid_template_columns": null,
            "grid_template_rows": null,
            "height": null,
            "justify_content": null,
            "justify_items": null,
            "left": null,
            "margin": null,
            "max_height": null,
            "max_width": null,
            "min_height": null,
            "min_width": null,
            "object_fit": null,
            "object_position": null,
            "order": null,
            "overflow": null,
            "overflow_x": null,
            "overflow_y": null,
            "padding": null,
            "right": null,
            "top": null,
            "visibility": null,
            "width": null
          }
        },
        "db3ae6323cb84ec9861b59b56fb2ae00": {
          "model_module": "@jupyter-widgets/controls",
          "model_name": "ButtonStyleModel",
          "model_module_version": "1.5.0",
          "state": {
            "_model_module": "@jupyter-widgets/controls",
            "_model_module_version": "1.5.0",
            "_model_name": "ButtonStyleModel",
            "_view_count": null,
            "_view_module": "@jupyter-widgets/base",
            "_view_module_version": "1.2.0",
            "_view_name": "StyleView",
            "button_color": null,
            "font_weight": ""
          }
        },
        "df3fedce007a47ea9cd74d4814f38b09": {
          "model_module": "@jupyter-widgets/base",
          "model_name": "LayoutModel",
          "model_module_version": "1.2.0",
          "state": {
            "_model_module": "@jupyter-widgets/base",
            "_model_module_version": "1.2.0",
            "_model_name": "LayoutModel",
            "_view_count": null,
            "_view_module": "@jupyter-widgets/base",
            "_view_module_version": "1.2.0",
            "_view_name": "LayoutView",
            "align_content": null,
            "align_items": null,
            "align_self": null,
            "border": null,
            "bottom": null,
            "display": null,
            "flex": null,
            "flex_flow": null,
            "grid_area": null,
            "grid_auto_columns": null,
            "grid_auto_flow": null,
            "grid_auto_rows": null,
            "grid_column": null,
            "grid_gap": null,
            "grid_row": null,
            "grid_template_areas": null,
            "grid_template_columns": null,
            "grid_template_rows": null,
            "height": null,
            "justify_content": null,
            "justify_items": null,
            "left": null,
            "margin": null,
            "max_height": null,
            "max_width": null,
            "min_height": null,
            "min_width": null,
            "object_fit": null,
            "object_position": null,
            "order": null,
            "overflow": null,
            "overflow_x": null,
            "overflow_y": null,
            "padding": null,
            "right": null,
            "top": null,
            "visibility": null,
            "width": null
          }
        },
        "2a0e6280c0b044e984d2182684166d67": {
          "model_module": "@jupyter-widgets/controls",
          "model_name": "DescriptionStyleModel",
          "model_module_version": "1.5.0",
          "state": {
            "_model_module": "@jupyter-widgets/controls",
            "_model_module_version": "1.5.0",
            "_model_name": "DescriptionStyleModel",
            "_view_count": null,
            "_view_module": "@jupyter-widgets/base",
            "_view_module_version": "1.2.0",
            "_view_name": "StyleView",
            "description_width": ""
          }
        },
        "cb1c6fe18aea48b2b59b9895797e8f92": {
          "model_module": "@jupyter-widgets/controls",
          "model_name": "LabelModel",
          "model_module_version": "1.5.0",
          "state": {
            "_dom_classes": [],
            "_model_module": "@jupyter-widgets/controls",
            "_model_module_version": "1.5.0",
            "_model_name": "LabelModel",
            "_view_count": null,
            "_view_module": "@jupyter-widgets/controls",
            "_view_module_version": "1.5.0",
            "_view_name": "LabelView",
            "description": "",
            "description_tooltip": null,
            "layout": "IPY_MODEL_ad87b9f1c42540f89cd9b8ba2ce64a17",
            "placeholder": "​",
            "style": "IPY_MODEL_bb237a5aae5f48528c975fbb7c5eb83c",
            "value": "Connecting..."
          }
        },
        "ad87b9f1c42540f89cd9b8ba2ce64a17": {
          "model_module": "@jupyter-widgets/base",
          "model_name": "LayoutModel",
          "model_module_version": "1.2.0",
          "state": {
            "_model_module": "@jupyter-widgets/base",
            "_model_module_version": "1.2.0",
            "_model_name": "LayoutModel",
            "_view_count": null,
            "_view_module": "@jupyter-widgets/base",
            "_view_module_version": "1.2.0",
            "_view_name": "LayoutView",
            "align_content": null,
            "align_items": null,
            "align_self": null,
            "border": null,
            "bottom": null,
            "display": null,
            "flex": null,
            "flex_flow": null,
            "grid_area": null,
            "grid_auto_columns": null,
            "grid_auto_flow": null,
            "grid_auto_rows": null,
            "grid_column": null,
            "grid_gap": null,
            "grid_row": null,
            "grid_template_areas": null,
            "grid_template_columns": null,
            "grid_template_rows": null,
            "height": null,
            "justify_content": null,
            "justify_items": null,
            "left": null,
            "margin": null,
            "max_height": null,
            "max_width": null,
            "min_height": null,
            "min_width": null,
            "object_fit": null,
            "object_position": null,
            "order": null,
            "overflow": null,
            "overflow_x": null,
            "overflow_y": null,
            "padding": null,
            "right": null,
            "top": null,
            "visibility": null,
            "width": null
          }
        },
        "bb237a5aae5f48528c975fbb7c5eb83c": {
          "model_module": "@jupyter-widgets/controls",
          "model_name": "DescriptionStyleModel",
          "model_module_version": "1.5.0",
          "state": {
            "_model_module": "@jupyter-widgets/controls",
            "_model_module_version": "1.5.0",
            "_model_name": "DescriptionStyleModel",
            "_view_count": null,
            "_view_module": "@jupyter-widgets/base",
            "_view_module_version": "1.2.0",
            "_view_name": "StyleView",
            "description_width": ""
          }
        },
        "864e02747390402e8326932d8aa10e8c": {
          "model_module": "@jupyter-widgets/controls",
          "model_name": "LabelModel",
          "model_module_version": "1.5.0",
          "state": {
            "_dom_classes": [],
            "_model_module": "@jupyter-widgets/controls",
            "_model_module_version": "1.5.0",
            "_model_name": "LabelModel",
            "_view_count": null,
            "_view_module": "@jupyter-widgets/controls",
            "_view_module_version": "1.5.0",
            "_view_name": "LabelView",
            "description": "",
            "description_tooltip": null,
            "layout": "IPY_MODEL_d4e1d1c9eb064f479f377005ab82c22a",
            "placeholder": "​",
            "style": "IPY_MODEL_0734995226184aee965304742d6daa12",
            "value": "Token is valid (permission: write)."
          }
        },
        "f9dd86b4d49f4814840701f1aa28d29f": {
          "model_module": "@jupyter-widgets/controls",
          "model_name": "LabelModel",
          "model_module_version": "1.5.0",
          "state": {
            "_dom_classes": [],
            "_model_module": "@jupyter-widgets/controls",
            "_model_module_version": "1.5.0",
            "_model_name": "LabelModel",
            "_view_count": null,
            "_view_module": "@jupyter-widgets/controls",
            "_view_module_version": "1.5.0",
            "_view_name": "LabelView",
            "description": "",
            "description_tooltip": null,
            "layout": "IPY_MODEL_0ecf74f316f8453eb3998da8273d5d3c",
            "placeholder": "​",
            "style": "IPY_MODEL_ba5afa215a124c9f9e6db65ea5e7bef8",
            "value": "Your token has been saved to /root/.cache/huggingface/token"
          }
        },
        "8f59b7250a92401097726cdfe078e16d": {
          "model_module": "@jupyter-widgets/controls",
          "model_name": "LabelModel",
          "model_module_version": "1.5.0",
          "state": {
            "_dom_classes": [],
            "_model_module": "@jupyter-widgets/controls",
            "_model_module_version": "1.5.0",
            "_model_name": "LabelModel",
            "_view_count": null,
            "_view_module": "@jupyter-widgets/controls",
            "_view_module_version": "1.5.0",
            "_view_name": "LabelView",
            "description": "",
            "description_tooltip": null,
            "layout": "IPY_MODEL_97d9d88fc12c40db84fa78a508ed5452",
            "placeholder": "​",
            "style": "IPY_MODEL_c96f634a5d844e1e818d5f5aa4a47c6e",
            "value": "Login successful"
          }
        },
        "d4e1d1c9eb064f479f377005ab82c22a": {
          "model_module": "@jupyter-widgets/base",
          "model_name": "LayoutModel",
          "model_module_version": "1.2.0",
          "state": {
            "_model_module": "@jupyter-widgets/base",
            "_model_module_version": "1.2.0",
            "_model_name": "LayoutModel",
            "_view_count": null,
            "_view_module": "@jupyter-widgets/base",
            "_view_module_version": "1.2.0",
            "_view_name": "LayoutView",
            "align_content": null,
            "align_items": null,
            "align_self": null,
            "border": null,
            "bottom": null,
            "display": null,
            "flex": null,
            "flex_flow": null,
            "grid_area": null,
            "grid_auto_columns": null,
            "grid_auto_flow": null,
            "grid_auto_rows": null,
            "grid_column": null,
            "grid_gap": null,
            "grid_row": null,
            "grid_template_areas": null,
            "grid_template_columns": null,
            "grid_template_rows": null,
            "height": null,
            "justify_content": null,
            "justify_items": null,
            "left": null,
            "margin": null,
            "max_height": null,
            "max_width": null,
            "min_height": null,
            "min_width": null,
            "object_fit": null,
            "object_position": null,
            "order": null,
            "overflow": null,
            "overflow_x": null,
            "overflow_y": null,
            "padding": null,
            "right": null,
            "top": null,
            "visibility": null,
            "width": null
          }
        },
        "0734995226184aee965304742d6daa12": {
          "model_module": "@jupyter-widgets/controls",
          "model_name": "DescriptionStyleModel",
          "model_module_version": "1.5.0",
          "state": {
            "_model_module": "@jupyter-widgets/controls",
            "_model_module_version": "1.5.0",
            "_model_name": "DescriptionStyleModel",
            "_view_count": null,
            "_view_module": "@jupyter-widgets/base",
            "_view_module_version": "1.2.0",
            "_view_name": "StyleView",
            "description_width": ""
          }
        },
        "0ecf74f316f8453eb3998da8273d5d3c": {
          "model_module": "@jupyter-widgets/base",
          "model_name": "LayoutModel",
          "model_module_version": "1.2.0",
          "state": {
            "_model_module": "@jupyter-widgets/base",
            "_model_module_version": "1.2.0",
            "_model_name": "LayoutModel",
            "_view_count": null,
            "_view_module": "@jupyter-widgets/base",
            "_view_module_version": "1.2.0",
            "_view_name": "LayoutView",
            "align_content": null,
            "align_items": null,
            "align_self": null,
            "border": null,
            "bottom": null,
            "display": null,
            "flex": null,
            "flex_flow": null,
            "grid_area": null,
            "grid_auto_columns": null,
            "grid_auto_flow": null,
            "grid_auto_rows": null,
            "grid_column": null,
            "grid_gap": null,
            "grid_row": null,
            "grid_template_areas": null,
            "grid_template_columns": null,
            "grid_template_rows": null,
            "height": null,
            "justify_content": null,
            "justify_items": null,
            "left": null,
            "margin": null,
            "max_height": null,
            "max_width": null,
            "min_height": null,
            "min_width": null,
            "object_fit": null,
            "object_position": null,
            "order": null,
            "overflow": null,
            "overflow_x": null,
            "overflow_y": null,
            "padding": null,
            "right": null,
            "top": null,
            "visibility": null,
            "width": null
          }
        },
        "ba5afa215a124c9f9e6db65ea5e7bef8": {
          "model_module": "@jupyter-widgets/controls",
          "model_name": "DescriptionStyleModel",
          "model_module_version": "1.5.0",
          "state": {
            "_model_module": "@jupyter-widgets/controls",
            "_model_module_version": "1.5.0",
            "_model_name": "DescriptionStyleModel",
            "_view_count": null,
            "_view_module": "@jupyter-widgets/base",
            "_view_module_version": "1.2.0",
            "_view_name": "StyleView",
            "description_width": ""
          }
        },
        "97d9d88fc12c40db84fa78a508ed5452": {
          "model_module": "@jupyter-widgets/base",
          "model_name": "LayoutModel",
          "model_module_version": "1.2.0",
          "state": {
            "_model_module": "@jupyter-widgets/base",
            "_model_module_version": "1.2.0",
            "_model_name": "LayoutModel",
            "_view_count": null,
            "_view_module": "@jupyter-widgets/base",
            "_view_module_version": "1.2.0",
            "_view_name": "LayoutView",
            "align_content": null,
            "align_items": null,
            "align_self": null,
            "border": null,
            "bottom": null,
            "display": null,
            "flex": null,
            "flex_flow": null,
            "grid_area": null,
            "grid_auto_columns": null,
            "grid_auto_flow": null,
            "grid_auto_rows": null,
            "grid_column": null,
            "grid_gap": null,
            "grid_row": null,
            "grid_template_areas": null,
            "grid_template_columns": null,
            "grid_template_rows": null,
            "height": null,
            "justify_content": null,
            "justify_items": null,
            "left": null,
            "margin": null,
            "max_height": null,
            "max_width": null,
            "min_height": null,
            "min_width": null,
            "object_fit": null,
            "object_position": null,
            "order": null,
            "overflow": null,
            "overflow_x": null,
            "overflow_y": null,
            "padding": null,
            "right": null,
            "top": null,
            "visibility": null,
            "width": null
          }
        },
        "c96f634a5d844e1e818d5f5aa4a47c6e": {
          "model_module": "@jupyter-widgets/controls",
          "model_name": "DescriptionStyleModel",
          "model_module_version": "1.5.0",
          "state": {
            "_model_module": "@jupyter-widgets/controls",
            "_model_module_version": "1.5.0",
            "_model_name": "DescriptionStyleModel",
            "_view_count": null,
            "_view_module": "@jupyter-widgets/base",
            "_view_module_version": "1.2.0",
            "_view_name": "StyleView",
            "description_width": ""
          }
        }
      }
    }
  },
  "nbformat": 4,
  "nbformat_minor": 0
}